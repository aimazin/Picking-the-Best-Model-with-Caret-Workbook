{
 "cells": [
  {
   "cell_type": "markdown",
   "metadata": {
    "_cell_guid": "51c0fb5b-8bb3-4afa-bf97-430dd32f59eb",
    "_uuid": "db29a2ba5ef44f0b6f3019cef7a6633684bd2d98"
   },
   "source": [
    "# Introduction\n",
    "\n",
    "This is the companion workbook to [Picking the Best Model with Caret](https://www.kaggle.com/rtatman/picking-the-best-model-with-caret). Read through the lesson and then come here to complete the exercises so all your work is in one central place.\n",
    "\n",
    "For this workbook we'll be working with a dataset of FIFA (football/soccer) players from EASports' FIFA video game series. You'll be predicting what a player's rank will be given their other attributes.\n",
    "____\n",
    "\n",
    "**Remember**: If you want to share this notebook you need to make it public so that other people can see it. You can do that by forking this notebook and then selecting \"public\" on the drop-down menu to the left of the \"Publish\" button.\n",
    "____\n",
    "# Table of Contents: \n",
    "\n",
    "* [Setting up our environment](#Setting-up-our-environment)\n",
    "* [Clean our data](#Clean-our-data)\n",
    "* [Split data into testing & training](#Split-data-into-testing-&-training)\n",
    "* [Fit a baseline model](#Fit-a-baseline-model)\n",
    "* [Tune a model using caret](#Tune-a-model-using-caret)\n",
    "* [Compare our models](#Compare-our-models)"
   ]
  },
  {
   "cell_type": "markdown",
   "metadata": {
    "_cell_guid": "7abef454-9168-4893-ab7e-988f3d531692",
    "_uuid": "9c666821d52e3fefa6c4b117ed942aa13f2853cd"
   },
   "source": [
    "# Setting up our environment\n",
    "___\n",
    "\n",
    "Here I've set up the environment for you. Remember to run this cell first or the other cells won't work! :)"
   ]
  },
  {
   "cell_type": "code",
   "execution_count": 1,
   "metadata": {},
   "outputs": [
    {
     "name": "stderr",
     "output_type": "stream",
     "text": [
      "also installing the dependency 'jsonlite'\n",
      "\n"
     ]
    },
    {
     "name": "stdout",
     "output_type": "stream",
     "text": [
      "package 'jsonlite' successfully unpacked and MD5 sums checked\n"
     ]
    },
    {
     "name": "stderr",
     "output_type": "stream",
     "text": [
      "Warning message:\n",
      "\"cannot remove prior installation of package 'jsonlite'\"Warning message in file.copy(savedcopy, lib, recursive = TRUE):\n",
      "\"problem copying C:\\Users\\aimaz\\anaconda3\\Lib\\R\\library\\00LOCK\\jsonlite\\libs\\x64\\jsonlite.dll to C:\\Users\\aimaz\\anaconda3\\Lib\\R\\library\\jsonlite\\libs\\x64\\jsonlite.dll: Permission denied\"Warning message:\n",
      "\"restored 'jsonlite'\""
     ]
    },
    {
     "name": "stdout",
     "output_type": "stream",
     "text": [
      "package 'tidyverse' successfully unpacked and MD5 sums checked\n",
      "\n",
      "The downloaded binary packages are in\n",
      "\tC:\\Users\\aimaz\\AppData\\Local\\Temp\\RtmpuQvTXd\\downloaded_packages\n",
      "\n",
      "  There is a binary version available but the source version is later:\n",
      "      binary source needs_compilation\n",
      "caret 6.0-86 6.0-88              TRUE\n",
      "\n",
      "  Binaries will be installed\n",
      "package 'caret' successfully unpacked and MD5 sums checked\n"
     ]
    },
    {
     "name": "stderr",
     "output_type": "stream",
     "text": [
      "Warning message:\n",
      "\"cannot remove prior installation of package 'caret'\"Warning message in file.copy(savedcopy, lib, recursive = TRUE):\n",
      "\"problem copying C:\\Users\\aimaz\\anaconda3\\Lib\\R\\library\\00LOCK\\caret\\libs\\x64\\caret.dll to C:\\Users\\aimaz\\anaconda3\\Lib\\R\\library\\caret\\libs\\x64\\caret.dll: Permission denied\"Warning message:\n",
      "\"restored 'caret'\""
     ]
    },
    {
     "name": "stdout",
     "output_type": "stream",
     "text": [
      "\n",
      "The downloaded binary packages are in\n",
      "\tC:\\Users\\aimaz\\AppData\\Local\\Temp\\RtmpuQvTXd\\downloaded_packages\n",
      "package 'randomForest' successfully unpacked and MD5 sums checked\n"
     ]
    },
    {
     "name": "stderr",
     "output_type": "stream",
     "text": [
      "Warning message:\n",
      "\"cannot remove prior installation of package 'randomForest'\"Warning message in file.copy(savedcopy, lib, recursive = TRUE):\n",
      "\"problem copying C:\\Users\\aimaz\\anaconda3\\Lib\\R\\library\\00LOCK\\randomForest\\libs\\x64\\randomForest.dll to C:\\Users\\aimaz\\anaconda3\\Lib\\R\\library\\randomForest\\libs\\x64\\randomForest.dll: Permission denied\"Warning message:\n",
      "\"restored 'randomForest'\""
     ]
    },
    {
     "name": "stdout",
     "output_type": "stream",
     "text": [
      "\n",
      "The downloaded binary packages are in\n",
      "\tC:\\Users\\aimaz\\AppData\\Local\\Temp\\RtmpuQvTXd\\downloaded_packages\n",
      "package 'Metrics' successfully unpacked and MD5 sums checked\n",
      "\n",
      "The downloaded binary packages are in\n",
      "\tC:\\Users\\aimaz\\AppData\\Local\\Temp\\RtmpuQvTXd\\downloaded_packages\n",
      "package 'dplyr' successfully unpacked and MD5 sums checked\n"
     ]
    },
    {
     "name": "stderr",
     "output_type": "stream",
     "text": [
      "Warning message:\n",
      "\"cannot remove prior installation of package 'dplyr'\"Warning message in file.copy(savedcopy, lib, recursive = TRUE):\n",
      "\"problem copying C:\\Users\\aimaz\\anaconda3\\Lib\\R\\library\\00LOCK\\dplyr\\libs\\x64\\dplyr.dll to C:\\Users\\aimaz\\anaconda3\\Lib\\R\\library\\dplyr\\libs\\x64\\dplyr.dll: Permission denied\"Warning message:\n",
      "\"restored 'dplyr'\""
     ]
    },
    {
     "name": "stdout",
     "output_type": "stream",
     "text": [
      "\n",
      "The downloaded binary packages are in\n",
      "\tC:\\Users\\aimaz\\AppData\\Local\\Temp\\RtmpuQvTXd\\downloaded_packages\n",
      "package 'xgboost' successfully unpacked and MD5 sums checked\n"
     ]
    },
    {
     "name": "stderr",
     "output_type": "stream",
     "text": [
      "Warning message:\n",
      "\"cannot remove prior installation of package 'xgboost'\"Warning message in file.copy(savedcopy, lib, recursive = TRUE):\n",
      "\"problem copying C:\\Users\\aimaz\\anaconda3\\Lib\\R\\library\\00LOCK\\xgboost\\libs\\x64\\xgboost.dll to C:\\Users\\aimaz\\anaconda3\\Lib\\R\\library\\xgboost\\libs\\x64\\xgboost.dll: Permission denied\"Warning message:\n",
      "\"restored 'xgboost'\""
     ]
    },
    {
     "name": "stdout",
     "output_type": "stream",
     "text": [
      "\n",
      "The downloaded binary packages are in\n",
      "\tC:\\Users\\aimaz\\AppData\\Local\\Temp\\RtmpuQvTXd\\downloaded_packages\n"
     ]
    }
   ],
   "source": [
    "#install.packages('tidyverse')\n",
    "install.packages('caret')\n",
    "install.packages('randomForest')\n",
    "install.packages('Metrics')\n",
    "install.packages(\"dplyr\")  \n",
    "install.packages('xgboost')"
   ]
  },
  {
   "cell_type": "code",
   "execution_count": 3,
   "metadata": {
    "_cell_guid": "c56cb8e1-1a06-4f31-a408-54a40128339c",
    "_kg_hide-output": true,
    "_uuid": "248ef4550532c83ac2fbf788f95c819fb5b2ab67"
   },
   "outputs": [
    {
     "name": "stderr",
     "output_type": "stream",
     "text": [
      "Warning message:\n",
      "\"package 'dplyr' was built under R version 3.6.3\"\n",
      "Attaching package: 'dplyr'\n",
      "\n",
      "The following objects are masked from 'package:stats':\n",
      "\n",
      "    filter, lag\n",
      "\n",
      "The following objects are masked from 'package:base':\n",
      "\n",
      "    intersect, setdiff, setequal, union\n",
      "\n",
      "Warning message:\n",
      "\"package 'caret' was built under R version 3.6.3\"Loading required package: lattice\n",
      "Warning message:\n",
      "\"package 'lattice' was built under R version 3.6.3\"Loading required package: ggplot2\n",
      "Warning message:\n",
      "\"package 'ggplot2' was built under R version 3.6.3\"Warning message:\n",
      "\"package 'randomForest' was built under R version 3.6.3\"randomForest 4.6-14\n",
      "Type rfNews() to see new features/changes/bug fixes.\n",
      "\n",
      "Attaching package: 'randomForest'\n",
      "\n",
      "The following object is masked from 'package:ggplot2':\n",
      "\n",
      "    margin\n",
      "\n",
      "The following object is masked from 'package:dplyr':\n",
      "\n",
      "    combine\n",
      "\n",
      "Warning message:\n",
      "\"package 'Metrics' was built under R version 3.6.3\"\n",
      "Attaching package: 'Metrics'\n",
      "\n",
      "The following objects are masked from 'package:caret':\n",
      "\n",
      "    precision, recall\n",
      "\n",
      "Warning message:\n",
      "\"package 'xgboost' was built under R version 3.6.3\"\n",
      "Attaching package: 'xgboost'\n",
      "\n",
      "The following object is masked from 'package:dplyr':\n",
      "\n",
      "    slice\n",
      "\n"
     ]
    }
   ],
   "source": [
    "# libraries we'll use\n",
    "library(dplyr) # utility functions\n",
    "library(caret) # hyperparameter tuning\n",
    "library(randomForest)\n",
    "library(Metrics)#useful metrics\n",
    "library(xgboost)\n",
    "\n",
    "# read in data\n",
    "player_statistics <- read.csv(\"FullData.csv\")"
   ]
  },
  {
   "cell_type": "markdown",
   "metadata": {
    "_cell_guid": "4f6a0137-2b1f-4b50-864c-5ca9e80528fd",
    "_uuid": "fe1fbe1d60f086d11c4731506f0ca59e1dd264fc"
   },
   "source": [
    "# Clean our data\n",
    "___\n",
    "\n",
    "This datset is pretty clean. All you'll need to do is remove rows with na's and select just the numeric columns."
   ]
  },
  {
   "cell_type": "code",
   "execution_count": 5,
   "metadata": {
    "_cell_guid": "54699973-cb5e-4783-87e0-219df12398c8",
    "_uuid": "87429837c7f630f025b16ca6b752c9e17cf0cca1"
   },
   "outputs": [],
   "source": [
    "# omit na's and remove non-numeric columns\n",
    "player_statistics <- player_statistics %>%\n",
    "na.omit() %>%\n",
    "select_if(is.numeric)\n"
   ]
  },
  {
   "cell_type": "markdown",
   "metadata": {
    "_cell_guid": "d140d501-1a36-476b-8af6-ce28d836c66a",
    "_uuid": "9d9d6662678ba0e8b4ec772a18e573dc3d60f353"
   },
   "source": [
    "Check your dataframe out to make sure it looks reasonable. "
   ]
  },
  {
   "cell_type": "code",
   "execution_count": 6,
   "metadata": {
    "_cell_guid": "f2d6babc-9fa3-423e-aa10-c269483bf422",
    "_uuid": "7c62a7743fcecfa23ace67f794c7905bf21ff6a3"
   },
   "outputs": [
    {
     "name": "stdout",
     "output_type": "stream",
     "text": [
      "'data.frame':\t1075 obs. of  41 variables:\n",
      " $ National_Kit      : num  7 10 10 9 1 1 9 11 1 17 ...\n",
      " $ Club_Kit          : num  7 10 11 9 1 1 9 11 13 17 ...\n",
      " $ Contract_Expiry   : num  2021 2018 2021 2021 2021 ...\n",
      " $ Rating            : int  94 93 92 92 92 90 90 90 89 89 ...\n",
      " $ Age               : int  32 29 25 30 31 26 28 27 24 28 ...\n",
      " $ Weak_foot         : int  4 4 5 4 4 3 4 3 3 4 ...\n",
      " $ Skill_Moves       : int  5 4 5 4 1 1 3 4 1 2 ...\n",
      " $ Ball_Control      : int  93 95 95 91 48 31 87 88 23 72 ...\n",
      " $ Dribbling         : int  92 97 96 86 30 13 85 89 13 67 ...\n",
      " $ Marking           : int  22 13 21 30 10 13 25 51 11 90 ...\n",
      " $ Sliding_Tackle    : int  23 26 33 38 11 13 19 52 16 91 ...\n",
      " $ Standing_Tackle   : int  31 28 24 45 10 21 42 55 18 92 ...\n",
      " $ Aggression        : int  63 48 56 78 29 38 80 65 23 82 ...\n",
      " $ Reactions         : int  96 95 88 93 85 88 88 87 81 84 ...\n",
      " $ Attacking_Position: int  94 93 90 92 12 12 89 86 13 47 ...\n",
      " $ Interceptions     : int  29 22 36 41 30 30 39 59 15 84 ...\n",
      " $ Vision            : int  85 90 80 84 70 68 78 79 44 76 ...\n",
      " $ Composure         : int  86 94 80 83 70 60 87 85 52 86 ...\n",
      " $ Crossing          : int  84 77 75 77 15 17 62 87 14 69 ...\n",
      " $ Short_Pass        : int  83 88 81 83 55 31 83 86 32 75 ...\n",
      " $ Long_Pass         : int  77 87 75 64 59 32 65 80 31 80 ...\n",
      " $ Acceleration      : int  91 92 93 88 58 56 79 93 46 74 ...\n",
      " $ Speed             : int  92 87 90 77 61 56 82 95 52 81 ...\n",
      " $ Stamina           : int  92 74 79 89 44 25 79 78 38 75 ...\n",
      " $ Strength          : int  80 59 49 76 83 64 84 80 70 91 ...\n",
      " $ Balance           : int  63 95 82 60 35 43 79 65 45 54 ...\n",
      " $ Agility           : int  90 90 96 86 52 57 78 77 61 58 ...\n",
      " $ Jumping           : int  95 68 61 69 78 67 84 85 68 75 ...\n",
      " $ Heading           : int  85 71 62 77 25 21 85 86 13 86 ...\n",
      " $ Shot_Power        : int  92 85 78 87 25 31 86 91 36 79 ...\n",
      " $ Finishing         : int  93 95 89 94 13 13 91 87 14 34 ...\n",
      " $ Long_Shots        : int  90 88 77 86 16 12 82 90 17 58 ...\n",
      " $ Curve             : int  81 89 79 86 14 21 77 86 19 56 ...\n",
      " $ Freekick_Accuracy : int  76 90 84 84 11 19 76 85 11 31 ...\n",
      " $ Penalties         : int  85 74 81 85 47 40 81 76 27 46 ...\n",
      " $ Volleys           : int  88 85 83 88 11 13 86 76 12 53 ...\n",
      " $ GK_Positioning    : int  14 14 15 33 91 86 8 5 86 6 ...\n",
      " $ GK_Diving         : int  7 6 9 27 89 88 15 15 84 7 ...\n",
      " $ GK_Kicking        : int  15 15 15 31 95 87 12 11 69 15 ...\n",
      " $ GK_Handling       : int  11 11 9 25 90 85 6 15 91 12 ...\n",
      " $ GK_Reflexes       : int  11 8 11 37 89 90 10 6 89 5 ...\n",
      " - attr(*, \"na.action\")= 'omit' Named int  9 13 19 22 29 31 36 39 41 47 ...\n",
      "  ..- attr(*, \"names\")= chr  \"9\" \"13\" \"19\" \"22\" ...\n"
     ]
    }
   ],
   "source": [
    "# check out your data frame using the str() function\n",
    "str(player_statistics)\n"
   ]
  },
  {
   "cell_type": "markdown",
   "metadata": {
    "_cell_guid": "b3fca0d7-58f8-4ef8-a9d5-412c5db2ddcd",
    "_uuid": "5d80e438ea11133ef07bbe63976a739df7dd251a"
   },
   "source": [
    "# Split data into testing & training\n",
    "____\n",
    "\n",
    "Split your data so that 80% of your data in the training set and 20% is in the testing set. "
   ]
  },
  {
   "cell_type": "code",
   "execution_count": 7,
   "metadata": {
    "_cell_guid": "ca9da8e9-bac0-4e1b-8fc5-db89697781b1",
    "_uuid": "f521cc8aa06518852200bfec943d6d89bcfc40ba"
   },
   "outputs": [],
   "source": [
    "# set a random seed\n",
    "set.seed(1234)\n",
    "\n",
    "# 80/20 train/test split\n",
    "# train/test split\n",
    "training_indexs <- createDataPartition(player_statistics$Rating, p = .2, list = F)\n",
    "training <- player_statistics[training_indexs, ]\n",
    "testing  <- player_statistics[-training_indexs, ]\n"
   ]
  },
  {
   "cell_type": "markdown",
   "metadata": {
    "_cell_guid": "2021e71d-649b-4fe6-a0ae-f52094418871",
    "_uuid": "8aafb5fbadad3d4721a72907f6279a361a944a19"
   },
   "source": [
    "Convert your predictors into a matrix & get a vector of your target variables."
   ]
  },
  {
   "cell_type": "code",
   "execution_count": 8,
   "metadata": {
    "_cell_guid": "32c303c7-7871-4a82-982d-06bca6a72d6b",
    "_uuid": "601f80b3f8c9794a2b260a94e47d09fd7a65e168"
   },
   "outputs": [],
   "source": [
    "# get a matrix of predictors and a vector of our target variable\n",
    "predictors <- training %>% select(-Rating) %>% as.matrix()\n",
    "output <- training$Rating\n",
    "\n"
   ]
  },
  {
   "cell_type": "markdown",
   "metadata": {
    "_cell_guid": "0e6f457f-25b7-45de-9908-cb3acd18b39b",
    "_uuid": "17f8253a5ac07cf32180479ddc57f60d23e3f238"
   },
   "source": [
    "# Fit a baseline model\n",
    "____\n",
    "\n",
    "Fit a baseline model using randomForest. I'd recommend setting \"ntree\" to 25.\n",
    "\n",
    "> **How can I figure out what a good ntree is?** You can check the output of a random tree model as it adds more trees by setting the argument do.trace to TRUE. It will print out the the mean standard error and what percent of the variance your model doesn't explain for each number of trees. You can then pick a ntree that is near the \"elbow\", the point at which adding additional another three stops dramatically improving your model's fit. \n",
    "\n",
    "Once you've trained a model, you can examine it by calling the varaible you assinged it to. (So if you called your model \"base_model\", you can look at your model by running a line that's just \"base_model\".)"
   ]
  },
  {
   "cell_type": "code",
   "execution_count": 9,
   "metadata": {
    "_cell_guid": "58a62a8b-b88a-4d87-a4d5-9620bbf46746",
    "_uuid": "da9b94b01008b3ce428d756ef92c2a570b45376d"
   },
   "outputs": [
    {
     "data": {
      "text/plain": [
       "\n",
       "Call:\n",
       " randomForest(formula = Rating ~ ., data = training, ntree = 50) \n",
       "               Type of random forest: regression\n",
       "                     Number of trees: 50\n",
       "No. of variables tried at each split: 13\n",
       "\n",
       "          Mean of squared residuals: 5.825615\n",
       "                    % Var explained: 88.38"
      ]
     },
     "metadata": {},
     "output_type": "display_data"
    }
   ],
   "source": [
    "set.seed(2)\n",
    "# fit a model\n",
    "base_model <- randomForest(Rating~.,data=training,\n",
    "                      ntree = 50) # number of trees\n",
    "\n",
    "# examine your model\n",
    "base_model\n"
   ]
  },
  {
   "cell_type": "markdown",
   "metadata": {
    "_cell_guid": "e8877878-12fa-407c-893b-53c6864d87ee",
    "_uuid": "6ce38a7d8d77af6ddda36dcecba4322e663e63df"
   },
   "source": [
    "Finally, go ahead and calcuate the rmse (root mean squared error) for your base model on your held-out test data."
   ]
  },
  {
   "cell_type": "code",
   "execution_count": 10,
   "metadata": {
    "_cell_guid": "e4c492cb-94be-4eca-91d4-fdf74f6a74c4",
    "_uuid": "79e7a5c75bce5c2de7c517ebcb289941db6a1840"
   },
   "outputs": [
    {
     "data": {
      "text/html": [
       "2.3240562721121"
      ],
      "text/latex": [
       "2.3240562721121"
      ],
      "text/markdown": [
       "2.3240562721121"
      ],
      "text/plain": [
       "[1] 2.324056"
      ]
     },
     "metadata": {},
     "output_type": "display_data"
    }
   ],
   "source": [
    "# find the rmse on our test data\n",
    "rmse(predict(base_model, testing), testing$Rating)\n"
   ]
  },
  {
   "cell_type": "markdown",
   "metadata": {
    "_cell_guid": "0e6ad4fd-17cc-4110-a5f1-041ad780ee86",
    "_uuid": "f061dcb821b45292df8b27e9c45bdf7e0a85b926"
   },
   "source": [
    "# Tune a model using caret\n",
    "____\n",
    "\n",
    "Now that you have a base model to compare it with, try tuning the model using the \"train\" function from the caret package. You can examine your model by printing the variable you assigned your model to using the print() function. "
   ]
  },
  {
   "cell_type": "code",
   "execution_count": 11,
   "metadata": {
    "_cell_guid": "96d9b37c-7289-4e56-8e05-ad3e6864a47f",
    "_uuid": "f983e1854dc6cf2cd73330133643e71c967ddc9a"
   },
   "outputs": [
    {
     "name": "stdout",
     "output_type": "stream",
     "text": [
      "Random Forest \n",
      "\n",
      "216 samples\n",
      " 40 predictor\n",
      "\n",
      "No pre-processing\n",
      "Resampling: Cross-Validated (10 fold, repeated 3 times) \n",
      "Summary of sample sizes: 194, 194, 194, 195, 196, 194, ... \n",
      "Resampling results across tuning parameters:\n",
      "\n",
      "  mtry  RMSE      Rsquared   MAE     \n",
      "  1     3.533032  0.8710670  2.639312\n",
      "  2     2.967221  0.8996644  2.208284\n",
      "  3     2.681095  0.9151690  1.991042\n",
      "  4     2.587065  0.9137412  1.919930\n",
      "  5     2.550440  0.9140494  1.893728\n",
      "  6     2.486123  0.9124329  1.873312\n",
      "  7     2.445603  0.9137686  1.813505\n",
      "  8     2.398602  0.9156664  1.772604\n",
      "  9     2.427054  0.9117288  1.823713\n",
      "\n",
      "RMSE was used to select the optimal model using the smallest value.\n",
      "The final value used for the model was mtry = 8.\n"
     ]
    }
   ],
   "source": [
    "\n",
    "control <- trainControl(method=\"repeatedcv\", number=10, repeats=3, search=\"grid\")\n",
    "\n",
    "tunegrid <- expand.grid(.mtry=c(1:9))\n",
    "\n",
    "\n",
    "set.seed(2)\n",
    "# tune a model\n",
    "tuned_model <- train(Rating~.,data=training,\n",
    "                     ntree=50,\n",
    "                     method = \"rf\",\n",
    "                     tuneGrid=tunegrid, trControl=control)\n",
    "                     \n",
    "\n",
    "# examine your tuned model\n",
    "print(tuned_model)"
   ]
  },
  {
   "cell_type": "markdown",
   "metadata": {
    "_cell_guid": "d4f746b4-11ab-407a-a9a3-b8c7bcc4afb8",
    "_uuid": "29897c2dc2ae85ba868796927f57c5d9a909d8b7"
   },
   "source": [
    "You can also check out the error over the different mtry values that caret tried by passing the model to the ggplot function. "
   ]
  },
  {
   "cell_type": "code",
   "execution_count": 12,
   "metadata": {
    "_cell_guid": "fdfe5fba-0cff-4bf7-b21e-2ed3e024bb8b",
    "_uuid": "7ced8a840f89a0f49e811c5c6ad3ed55b9baef14"
   },
   "outputs": [
    {
     "data": {
      "image/png": "[encoded data removed]",
      "text/plain": [
       "plot without title"
      ]
     },
     "metadata": {},
     "output_type": "display_data"
    }
   ],
   "source": [
    "# plot the error over various mtry variables \n",
    "ggplot(tuned_model)"
   ]
  },
  {
   "cell_type": "markdown",
   "metadata": {
    "_cell_guid": "4cd841a0-4754-40d5-ac66-9a7af49d3133",
    "_uuid": "1e421a4b1dff13aca814ea71ec688ded7fc0eb08"
   },
   "source": [
    "# Compare our models\n",
    "___\n",
    "\n",
    "Now that we have our two models, let's compare them to each other.\n",
    "\n",
    "> **Tip:** You can access the automatically-picked best model by getting the finalModel component for your tuned model. So if you called your tuned model ```model_tuned```, the best model would be ```model_tuned$finalModel```.\n",
    "\n",
    "First, compare the root mean squared error (rmse) for each of your models on the test data. Which model has a lower overall error on the test data? Why might this be?"
   ]
  },
  {
   "cell_type": "code",
   "execution_count": 13,
   "metadata": {
    "_cell_guid": "e49cecaf-cce0-4713-af44-b57f7af13e2a",
    "_uuid": "7758d8f6f9c4a8327bfc318a20004cfaa82940d2"
   },
   "outputs": [
    {
     "name": "stdout",
     "output_type": "stream",
     "text": [
      "[1] \"Base model mean error:\"\n",
      "[1] 2.324056\n",
      "[1] \"Tuned model mean error:\"\n",
      "[1] 2.315855\n"
     ]
    }
   ],
   "source": [
    "# get rmse for the base model on the testing data\n",
    "print(\"Base model mean error:\")\n",
    "print(rmse(predict(base_model, testing), testing$Rating))\n",
    "\n",
    "# get rmse for the tuned model on the testing data\n",
    "print(\"Tuned model mean error:\")\n",
    "print(rmse(predict(tuned_model$finalModel, testing), testing$Rating))"
   ]
  },
  {
   "cell_type": "markdown",
   "metadata": {
    "_cell_guid": "43052d1c-4de3-4f4a-9aaf-9756fd01f6ab",
    "_uuid": "3f08994de51836f46c62966c3a6d78935374e667"
   },
   "source": [
    "Second, look at the five most important varibles for each model. Are the the same?"
   ]
  },
  {
   "cell_type": "code",
   "execution_count": 14,
   "metadata": {
    "_cell_guid": "a768d8d6-11ed-4c35-a7dd-465f1169c8d9",
    "_uuid": "beae6a20420833c8ad18191d1289f68bfb389e90"
   },
   "outputs": [
    {
     "data": {
      "image/png": "[encoded data removed]",
      "text/plain": [
       "Plot with title \"tuned_model$finalModel\""
      ]
     },
     "metadata": {},
     "output_type": "display_data"
    }
   ],
   "source": [
    "# plot the relative variable importance for our tune & un-tuned models\n",
    "\n",
    "# two columns, 1 row (for plots)\n",
    "par(mfrow = c(1,2))\n",
    "\n",
    "# plot both variable importances\n",
    "varImpPlot(base_model, n.var = 5)\n",
    "varImpPlot(tuned_model$finalModel, n.var = 5)\n"
   ]
  },
  {
   "cell_type": "markdown",
   "metadata": {
    "_cell_guid": "26ac4e51-5c07-4383-b0e4-f07adaa5a739",
    "_uuid": "6b5352e82e77c804b588cfe72502ad6a142e1207"
   },
   "source": [
    "# And that's it! :)\n",
    "___\n",
    "\n",
    "Nice work! Now that you've got some practice, why not try using caret to tune a different model, like xgboost? You can check out an [R xgboost tutorial here](https://www.kaggle.com/rtatman/machine-learning-with-xgboost-in-r).\n",
    "\n",
    "Happy analyzing!"
   ]
  },
  {
   "cell_type": "markdown",
   "metadata": {},
   "source": [
    "## Caret with Xgboost"
   ]
  },
  {
   "cell_type": "markdown",
   "metadata": {},
   "source": [
    "### the base xgboost model"
   ]
  },
  {
   "cell_type": "code",
   "execution_count": 15,
   "metadata": {},
   "outputs": [],
   "source": [
    "nrounds <- 1000"
   ]
  },
  {
   "cell_type": "code",
   "execution_count": 16,
   "metadata": {},
   "outputs": [
    {
     "name": "stdout",
     "output_type": "stream",
     "text": [
      "[19:34:15] WARNING: amalgamation/../src/objective/regression_obj.cu:171: reg:linear is now deprecated in favor of reg:squarederror.\n"
     ]
    },
    {
     "data": {
      "text/plain": [
       "eXtreme Gradient Boosting \n",
       "\n",
       "216 samples\n",
       " 40 predictor\n",
       "\n",
       "No pre-processing\n",
       "Resampling: None "
      ]
     },
     "metadata": {},
     "output_type": "display_data"
    }
   ],
   "source": [
    "grid_default <- expand.grid(\n",
    "  nrounds = 100,\n",
    "  max_depth = 6,\n",
    "  eta = 0.3,\n",
    "  gamma = 0,\n",
    "  colsample_bytree = 1,\n",
    "  min_child_weight = 1,\n",
    "  subsample = 1\n",
    ")\n",
    "\n",
    "train_control <- caret::trainControl(\n",
    "  method = \"none\",\n",
    "  verboseIter = FALSE, # no training log\n",
    "  allowParallel = TRUE # FALSE for reproducible results \n",
    ")\n",
    "\n",
    "xgb_base <- caret::train(\n",
    "  x = predictors,\n",
    "  y = output,\n",
    "  trControl = train_control,\n",
    "  tuneGrid = grid_default,\n",
    "  method = \"xgbTree\",\n",
    "  verbose = TRUE\n",
    ")\n",
    "xgb_base"
   ]
  },
  {
   "cell_type": "markdown",
   "metadata": {},
   "source": [
    "### 1 finding max_depth"
   ]
  },
  {
   "cell_type": "code",
   "execution_count": 17,
   "metadata": {},
   "outputs": [
    {
     "name": "stdout",
     "output_type": "stream",
     "text": [
      "[19:34:15] WARNING: amalgamation/../src/objective/regression_obj.cu:171: reg:linear is now deprecated in favor of reg:squarederror.\n",
      "[19:34:16] WARNING: amalgamation/../src/objective/regression_obj.cu:171: reg:linear is now deprecated in favor of reg:squarederror.\n",
      "[19:34:17] WARNING: amalgamation/../src/objective/regression_obj.cu:171: reg:linear is now deprecated in favor of reg:squarederror.\n",
      "[19:34:19] WARNING: amalgamation/../src/objective/regression_obj.cu:171: reg:linear is now deprecated in favor of reg:squarederror.\n",
      "[19:34:21] WARNING: amalgamation/../src/objective/regression_obj.cu:171: reg:linear is now deprecated in favor of reg:squarederror.\n",
      "[19:34:23] WARNING: amalgamation/../src/objective/regression_obj.cu:171: reg:linear is now deprecated in favor of reg:squarederror.\n",
      "[19:34:24] WARNING: amalgamation/../src/objective/regression_obj.cu:171: reg:linear is now deprecated in favor of reg:squarederror.\n",
      "[19:34:25] WARNING: amalgamation/../src/objective/regression_obj.cu:171: reg:linear is now deprecated in favor of reg:squarederror.\n",
      "[19:34:26] WARNING: amalgamation/../src/objective/regression_obj.cu:171: reg:linear is now deprecated in favor of reg:squarederror.\n",
      "[19:34:27] WARNING: amalgamation/../src/objective/regression_obj.cu:171: reg:linear is now deprecated in favor of reg:squarederror.\n",
      "[19:34:29] WARNING: amalgamation/../src/objective/regression_obj.cu:171: reg:linear is now deprecated in favor of reg:squarederror.\n",
      "[19:34:30] WARNING: amalgamation/../src/objective/regression_obj.cu:171: reg:linear is now deprecated in favor of reg:squarederror.\n",
      "[19:34:31] WARNING: amalgamation/../src/objective/regression_obj.cu:171: reg:linear is now deprecated in favor of reg:squarederror.\n",
      "[19:34:31] WARNING: amalgamation/../src/objective/regression_obj.cu:171: reg:linear is now deprecated in favor of reg:squarederror.\n",
      "[19:34:32] WARNING: amalgamation/../src/objective/regression_obj.cu:171: reg:linear is now deprecated in favor of reg:squarederror.\n",
      "[19:34:33] WARNING: amalgamation/../src/objective/regression_obj.cu:171: reg:linear is now deprecated in favor of reg:squarederror.\n",
      "[19:34:34] WARNING: amalgamation/../src/objective/regression_obj.cu:171: reg:linear is now deprecated in favor of reg:squarederror.\n",
      "[19:34:35] WARNING: amalgamation/../src/objective/regression_obj.cu:171: reg:linear is now deprecated in favor of reg:squarederror.\n",
      "[19:34:35] WARNING: amalgamation/../src/objective/regression_obj.cu:171: reg:linear is now deprecated in favor of reg:squarederror.\n",
      "[19:34:36] WARNING: amalgamation/../src/objective/regression_obj.cu:171: reg:linear is now deprecated in favor of reg:squarederror.\n",
      "[19:34:36] WARNING: amalgamation/../src/objective/regression_obj.cu:171: reg:linear is now deprecated in favor of reg:squarederror.\n",
      "[19:34:37] WARNING: amalgamation/../src/objective/regression_obj.cu:171: reg:linear is now deprecated in favor of reg:squarederror.\n",
      "[19:34:38] WARNING: amalgamation/../src/objective/regression_obj.cu:171: reg:linear is now deprecated in favor of reg:squarederror.\n",
      "[19:34:40] WARNING: amalgamation/../src/objective/regression_obj.cu:171: reg:linear is now deprecated in favor of reg:squarederror.\n",
      "[19:34:42] WARNING: amalgamation/../src/objective/regression_obj.cu:171: reg:linear is now deprecated in favor of reg:squarederror.\n",
      "[19:34:44] WARNING: amalgamation/../src/objective/regression_obj.cu:171: reg:linear is now deprecated in favor of reg:squarederror.\n",
      "[19:34:45] WARNING: amalgamation/../src/objective/regression_obj.cu:171: reg:linear is now deprecated in favor of reg:squarederror.\n",
      "[19:34:46] WARNING: amalgamation/../src/objective/regression_obj.cu:171: reg:linear is now deprecated in favor of reg:squarederror.\n",
      "[19:34:47] WARNING: amalgamation/../src/objective/regression_obj.cu:171: reg:linear is now deprecated in favor of reg:squarederror.\n",
      "[19:34:48] WARNING: amalgamation/../src/objective/regression_obj.cu:171: reg:linear is now deprecated in favor of reg:squarederror.\n",
      "[19:34:50] WARNING: amalgamation/../src/objective/regression_obj.cu:171: reg:linear is now deprecated in favor of reg:squarederror.\n",
      "[19:34:51] WARNING: amalgamation/../src/objective/regression_obj.cu:171: reg:linear is now deprecated in favor of reg:squarederror.\n",
      "[19:34:52] WARNING: amalgamation/../src/objective/regression_obj.cu:171: reg:linear is now deprecated in favor of reg:squarederror.\n",
      "[19:34:52] WARNING: amalgamation/../src/objective/regression_obj.cu:171: reg:linear is now deprecated in favor of reg:squarederror.\n",
      "[19:34:53] WARNING: amalgamation/../src/objective/regression_obj.cu:171: reg:linear is now deprecated in favor of reg:squarederror.\n",
      "[19:34:54] WARNING: amalgamation/../src/objective/regression_obj.cu:171: reg:linear is now deprecated in favor of reg:squarederror.\n",
      "[19:34:55] WARNING: amalgamation/../src/objective/regression_obj.cu:171: reg:linear is now deprecated in favor of reg:squarederror.\n",
      "[19:34:56] WARNING: amalgamation/../src/objective/regression_obj.cu:171: reg:linear is now deprecated in favor of reg:squarederror.\n",
      "[19:34:56] WARNING: amalgamation/../src/objective/regression_obj.cu:171: reg:linear is now deprecated in favor of reg:squarederror.\n",
      "[19:34:57] WARNING: amalgamation/../src/objective/regression_obj.cu:171: reg:linear is now deprecated in favor of reg:squarederror.\n",
      "[19:34:57] WARNING: amalgamation/../src/objective/regression_obj.cu:171: reg:linear is now deprecated in favor of reg:squarederror.\n",
      "[19:34:58] WARNING: amalgamation/../src/objective/regression_obj.cu:171: reg:linear is now deprecated in favor of reg:squarederror.\n",
      "[19:35:00] WARNING: amalgamation/../src/objective/regression_obj.cu:171: reg:linear is now deprecated in favor of reg:squarederror.\n",
      "[19:35:01] WARNING: amalgamation/../src/objective/regression_obj.cu:171: reg:linear is now deprecated in favor of reg:squarederror.\n",
      "[19:35:03] WARNING: amalgamation/../src/objective/regression_obj.cu:171: reg:linear is now deprecated in favor of reg:squarederror.\n",
      "[19:35:05] WARNING: amalgamation/../src/objective/regression_obj.cu:171: reg:linear is now deprecated in favor of reg:squarederror.\n",
      "[19:35:06] WARNING: amalgamation/../src/objective/regression_obj.cu:171: reg:linear is now deprecated in favor of reg:squarederror.\n",
      "[19:35:07] WARNING: amalgamation/../src/objective/regression_obj.cu:171: reg:linear is now deprecated in favor of reg:squarederror.\n",
      "[19:35:09] WARNING: amalgamation/../src/objective/regression_obj.cu:171: reg:linear is now deprecated in favor of reg:squarederror.\n",
      "[19:35:10] WARNING: amalgamation/../src/objective/regression_obj.cu:171: reg:linear is now deprecated in favor of reg:squarederror.\n",
      "[19:35:11] WARNING: amalgamation/../src/objective/regression_obj.cu:171: reg:linear is now deprecated in favor of reg:squarederror.\n",
      "[19:35:12] WARNING: amalgamation/../src/objective/regression_obj.cu:171: reg:linear is now deprecated in favor of reg:squarederror.\n",
      "[19:35:13] WARNING: amalgamation/../src/objective/regression_obj.cu:171: reg:linear is now deprecated in favor of reg:squarederror.\n",
      "[19:35:14] WARNING: amalgamation/../src/objective/regression_obj.cu:171: reg:linear is now deprecated in favor of reg:squarederror.\n",
      "[19:35:14] WARNING: amalgamation/../src/objective/regression_obj.cu:171: reg:linear is now deprecated in favor of reg:squarederror.\n",
      "[19:35:15] WARNING: amalgamation/../src/objective/regression_obj.cu:171: reg:linear is now deprecated in favor of reg:squarederror.\n",
      "[19:35:16] WARNING: amalgamation/../src/objective/regression_obj.cu:171: reg:linear is now deprecated in favor of reg:squarederror.\n",
      "[19:35:16] WARNING: amalgamation/../src/objective/regression_obj.cu:171: reg:linear is now deprecated in favor of reg:squarederror.\n",
      "[19:35:17] WARNING: amalgamation/../src/objective/regression_obj.cu:171: reg:linear is now deprecated in favor of reg:squarederror.\n",
      "[19:35:18] WARNING: amalgamation/../src/objective/regression_obj.cu:171: reg:linear is now deprecated in favor of reg:squarederror.\n",
      "[19:35:18] WARNING: amalgamation/../src/objective/regression_obj.cu:171: reg:linear is now deprecated in favor of reg:squarederror.\n"
     ]
    },
    {
     "data": {
      "image/png": "[encoded data removed]",
      "text/plain": [
       "plot without title"
      ]
     },
     "metadata": {},
     "output_type": "display_data"
    }
   ],
   "source": [
    "# note to start nrounds from 200, as smaller learning rates result in errors so\n",
    "# big with lower starting points that they'll mess the scales\n",
    "tune_grid <- expand.grid(\n",
    "  nrounds = seq(from = 200, to = nrounds, by = 50),\n",
    "  eta = c(0.025, 0.05, 0.1, 0.3),\n",
    "  max_depth = c(2, 3, 4, 5, 6),\n",
    "  gamma = 0,\n",
    "  colsample_bytree = 1,\n",
    "  min_child_weight = 1,\n",
    "  subsample = 1\n",
    ")\n",
    "\n",
    "tune_control <- caret::trainControl(\n",
    "  method = \"cv\", # cross-validation\n",
    "  number = 3, # with n folds \n",
    "  #index = createFolds(tr_treated$Id_clean), # fix the folds\n",
    "  verboseIter = FALSE, # no training log\n",
    "  allowParallel = TRUE # FALSE for reproducible results \n",
    ")\n",
    "\n",
    "xgb_tune <- caret::train(\n",
    "  x = predictors,\n",
    "  y = output,\n",
    "  trControl = tune_control,\n",
    "  tuneGrid = tune_grid,\n",
    "  method = \"xgbTree\",\n",
    "  verbose = TRUE\n",
    ")\n",
    "\n",
    "# helper function for the plots\n",
    "tuneplot <- function(x, probs = .90) {\n",
    "  ggplot(x) +\n",
    "    coord_cartesian(ylim = c(quantile(x$results$RMSE, probs = probs), min(x$results$RMSE))) +\n",
    "    theme_bw()\n",
    "}\n",
    "\n",
    "tuneplot(xgb_tune)"
   ]
  },
  {
   "cell_type": "markdown",
   "metadata": {},
   "source": [
    "### 2 finding min_child_sample"
   ]
  },
  {
   "cell_type": "code",
   "execution_count": 18,
   "metadata": {},
   "outputs": [
    {
     "name": "stdout",
     "output_type": "stream",
     "text": [
      "[19:35:20] WARNING: amalgamation/../src/objective/regression_obj.cu:171: reg:linear is now deprecated in favor of reg:squarederror.\n",
      "[19:35:21] WARNING: amalgamation/../src/objective/regression_obj.cu:171: reg:linear is now deprecated in favor of reg:squarederror.\n",
      "[19:35:23] WARNING: amalgamation/../src/objective/regression_obj.cu:171: reg:linear is now deprecated in favor of reg:squarederror.\n",
      "[19:35:24] WARNING: amalgamation/../src/objective/regression_obj.cu:171: reg:linear is now deprecated in favor of reg:squarederror.\n",
      "[19:35:25] WARNING: amalgamation/../src/objective/regression_obj.cu:171: reg:linear is now deprecated in favor of reg:squarederror.\n",
      "[19:35:26] WARNING: amalgamation/../src/objective/regression_obj.cu:171: reg:linear is now deprecated in favor of reg:squarederror.\n",
      "[19:35:27] WARNING: amalgamation/../src/objective/regression_obj.cu:171: reg:linear is now deprecated in favor of reg:squarederror.\n",
      "[19:35:29] WARNING: amalgamation/../src/objective/regression_obj.cu:171: reg:linear is now deprecated in favor of reg:squarederror.\n",
      "[19:35:30] WARNING: amalgamation/../src/objective/regression_obj.cu:171: reg:linear is now deprecated in favor of reg:squarederror.\n",
      "[19:35:31] WARNING: amalgamation/../src/objective/regression_obj.cu:171: reg:linear is now deprecated in favor of reg:squarederror.\n"
     ]
    },
    {
     "data": {
      "image/png": "[encoded data removed]",
      "text/plain": [
       "plot without title"
      ]
     },
     "metadata": {},
     "output_type": "display_data"
    }
   ],
   "source": [
    "tune_grid2 <- expand.grid(\n",
    "  nrounds = seq(from = 50, to = nrounds, by = 50),\n",
    "  eta = xgb_tune$bestTune$eta,\n",
    "  max_depth = ifelse(xgb_tune$bestTune$max_depth == 2,\n",
    "    c(xgb_tune$bestTune$max_depth:4),\n",
    "    xgb_tune$bestTune$max_depth - 1:xgb_tune$bestTune$max_depth + 1),\n",
    "  gamma = 0,\n",
    "  colsample_bytree = 1,\n",
    "  min_child_weight = c(1, 2, 3),\n",
    "  subsample = 1\n",
    ")\n",
    "\n",
    "xgb_tune2 <- caret::train(\n",
    "  x = predictors,\n",
    "  y = output,\n",
    "  trControl = tune_control,\n",
    "  tuneGrid = tune_grid2,\n",
    "  method = \"xgbTree\",\n",
    "  verbose = TRUE\n",
    ")\n",
    "\n",
    "tuneplot(xgb_tune2)"
   ]
  },
  {
   "cell_type": "markdown",
   "metadata": {},
   "source": [
    "### 3 finding colsample_bytree"
   ]
  },
  {
   "cell_type": "code",
   "execution_count": 19,
   "metadata": {},
   "outputs": [
    {
     "name": "stdout",
     "output_type": "stream",
     "text": [
      "[19:35:33] WARNING: amalgamation/../src/objective/regression_obj.cu:171: reg:linear is now deprecated in favor of reg:squarederror.\n",
      "[19:35:34] WARNING: amalgamation/../src/objective/regression_obj.cu:171: reg:linear is now deprecated in favor of reg:squarederror.\n",
      "[19:35:35] WARNING: amalgamation/../src/objective/regression_obj.cu:171: reg:linear is now deprecated in favor of reg:squarederror.\n",
      "[19:35:36] WARNING: amalgamation/../src/objective/regression_obj.cu:171: reg:linear is now deprecated in favor of reg:squarederror.\n",
      "[19:35:37] WARNING: amalgamation/../src/objective/regression_obj.cu:171: reg:linear is now deprecated in favor of reg:squarederror.\n",
      "[19:35:38] WARNING: amalgamation/../src/objective/regression_obj.cu:171: reg:linear is now deprecated in favor of reg:squarederror.\n",
      "[19:35:39] WARNING: amalgamation/../src/objective/regression_obj.cu:171: reg:linear is now deprecated in favor of reg:squarederror.\n",
      "[19:35:40] WARNING: amalgamation/../src/objective/regression_obj.cu:171: reg:linear is now deprecated in favor of reg:squarederror.\n",
      "[19:35:41] WARNING: amalgamation/../src/objective/regression_obj.cu:171: reg:linear is now deprecated in favor of reg:squarederror.\n",
      "[19:35:43] WARNING: amalgamation/../src/objective/regression_obj.cu:171: reg:linear is now deprecated in favor of reg:squarederror.\n",
      "[19:35:44] WARNING: amalgamation/../src/objective/regression_obj.cu:171: reg:linear is now deprecated in favor of reg:squarederror.\n",
      "[19:35:45] WARNING: amalgamation/../src/objective/regression_obj.cu:171: reg:linear is now deprecated in favor of reg:squarederror.\n",
      "[19:35:46] WARNING: amalgamation/../src/objective/regression_obj.cu:171: reg:linear is now deprecated in favor of reg:squarederror.\n",
      "[19:35:47] WARNING: amalgamation/../src/objective/regression_obj.cu:171: reg:linear is now deprecated in favor of reg:squarederror.\n",
      "[19:35:48] WARNING: amalgamation/../src/objective/regression_obj.cu:171: reg:linear is now deprecated in favor of reg:squarederror.\n",
      "[19:35:49] WARNING: amalgamation/../src/objective/regression_obj.cu:171: reg:linear is now deprecated in favor of reg:squarederror.\n",
      "[19:35:50] WARNING: amalgamation/../src/objective/regression_obj.cu:171: reg:linear is now deprecated in favor of reg:squarederror.\n",
      "[19:35:51] WARNING: amalgamation/../src/objective/regression_obj.cu:171: reg:linear is now deprecated in favor of reg:squarederror.\n",
      "[19:35:52] WARNING: amalgamation/../src/objective/regression_obj.cu:171: reg:linear is now deprecated in favor of reg:squarederror.\n",
      "[19:35:54] WARNING: amalgamation/../src/objective/regression_obj.cu:171: reg:linear is now deprecated in favor of reg:squarederror.\n",
      "[19:35:55] WARNING: amalgamation/../src/objective/regression_obj.cu:171: reg:linear is now deprecated in favor of reg:squarederror.\n",
      "[19:35:56] WARNING: amalgamation/../src/objective/regression_obj.cu:171: reg:linear is now deprecated in favor of reg:squarederror.\n",
      "[19:35:57] WARNING: amalgamation/../src/objective/regression_obj.cu:171: reg:linear is now deprecated in favor of reg:squarederror.\n",
      "[19:35:58] WARNING: amalgamation/../src/objective/regression_obj.cu:171: reg:linear is now deprecated in favor of reg:squarederror.\n",
      "[19:35:59] WARNING: amalgamation/../src/objective/regression_obj.cu:171: reg:linear is now deprecated in favor of reg:squarederror.\n",
      "[19:36:00] WARNING: amalgamation/../src/objective/regression_obj.cu:171: reg:linear is now deprecated in favor of reg:squarederror.\n",
      "[19:36:02] WARNING: amalgamation/../src/objective/regression_obj.cu:171: reg:linear is now deprecated in favor of reg:squarederror.\n",
      "[19:36:03] WARNING: amalgamation/../src/objective/regression_obj.cu:171: reg:linear is now deprecated in favor of reg:squarederror.\n",
      "[19:36:04] WARNING: amalgamation/../src/objective/regression_obj.cu:171: reg:linear is now deprecated in favor of reg:squarederror.\n",
      "[19:36:05] WARNING: amalgamation/../src/objective/regression_obj.cu:171: reg:linear is now deprecated in favor of reg:squarederror.\n",
      "[19:36:06] WARNING: amalgamation/../src/objective/regression_obj.cu:171: reg:linear is now deprecated in favor of reg:squarederror.\n",
      "[19:36:07] WARNING: amalgamation/../src/objective/regression_obj.cu:171: reg:linear is now deprecated in favor of reg:squarederror.\n",
      "[19:36:09] WARNING: amalgamation/../src/objective/regression_obj.cu:171: reg:linear is now deprecated in favor of reg:squarederror.\n",
      "[19:36:10] WARNING: amalgamation/../src/objective/regression_obj.cu:171: reg:linear is now deprecated in favor of reg:squarederror.\n",
      "[19:36:11] WARNING: amalgamation/../src/objective/regression_obj.cu:171: reg:linear is now deprecated in favor of reg:squarederror.\n",
      "[19:36:13] WARNING: amalgamation/../src/objective/regression_obj.cu:171: reg:linear is now deprecated in favor of reg:squarederror.\n",
      "[19:36:14] WARNING: amalgamation/../src/objective/regression_obj.cu:171: reg:linear is now deprecated in favor of reg:squarederror.\n"
     ]
    },
    {
     "data": {
      "image/png": "[encoded data removed]",
      "text/plain": [
       "plot without title"
      ]
     },
     "metadata": {},
     "output_type": "display_data"
    }
   ],
   "source": [
    "tune_grid3 <- expand.grid(\n",
    "  nrounds = seq(from = 50, to = nrounds, by = 50),\n",
    "  eta = xgb_tune$bestTune$eta,\n",
    "  max_depth = xgb_tune2$bestTune$max_depth,\n",
    "  gamma = 0,\n",
    "  colsample_bytree = c(0.4, 0.6, 0.8, 1.0),\n",
    "  min_child_weight = xgb_tune2$bestTune$min_child_weight,\n",
    "  subsample = c(0.5, 0.75, 1.0)\n",
    ")\n",
    "\n",
    "xgb_tune3 <- caret::train(\n",
    "  x = predictors,\n",
    "  y = output,\n",
    "  trControl = tune_control,\n",
    "  tuneGrid = tune_grid3,\n",
    "  method = \"xgbTree\",\n",
    "  verbose = TRUE\n",
    ")\n",
    "\n",
    "tuneplot(xgb_tune3, probs = .95)"
   ]
  },
  {
   "cell_type": "markdown",
   "metadata": {},
   "source": [
    "### 4 finding gamma"
   ]
  },
  {
   "cell_type": "code",
   "execution_count": 20,
   "metadata": {},
   "outputs": [
    {
     "name": "stdout",
     "output_type": "stream",
     "text": [
      "[19:36:16] WARNING: amalgamation/../src/objective/regression_obj.cu:171: reg:linear is now deprecated in favor of reg:squarederror.\n",
      "[19:36:17] WARNING: amalgamation/../src/objective/regression_obj.cu:171: reg:linear is now deprecated in favor of reg:squarederror.\n",
      "[19:36:18] WARNING: amalgamation/../src/objective/regression_obj.cu:171: reg:linear is now deprecated in favor of reg:squarederror.\n",
      "[19:36:19] WARNING: amalgamation/../src/objective/regression_obj.cu:171: reg:linear is now deprecated in favor of reg:squarederror.\n",
      "[19:36:20] WARNING: amalgamation/../src/objective/regression_obj.cu:171: reg:linear is now deprecated in favor of reg:squarederror.\n",
      "[19:36:21] WARNING: amalgamation/../src/objective/regression_obj.cu:171: reg:linear is now deprecated in favor of reg:squarederror.\n",
      "[19:36:22] WARNING: amalgamation/../src/objective/regression_obj.cu:171: reg:linear is now deprecated in favor of reg:squarederror.\n",
      "[19:36:24] WARNING: amalgamation/../src/objective/regression_obj.cu:171: reg:linear is now deprecated in favor of reg:squarederror.\n",
      "[19:36:25] WARNING: amalgamation/../src/objective/regression_obj.cu:171: reg:linear is now deprecated in favor of reg:squarederror.\n",
      "[19:36:26] WARNING: amalgamation/../src/objective/regression_obj.cu:171: reg:linear is now deprecated in favor of reg:squarederror.\n",
      "[19:36:27] WARNING: amalgamation/../src/objective/regression_obj.cu:171: reg:linear is now deprecated in favor of reg:squarederror.\n",
      "[19:36:28] WARNING: amalgamation/../src/objective/regression_obj.cu:171: reg:linear is now deprecated in favor of reg:squarederror.\n",
      "[19:36:29] WARNING: amalgamation/../src/objective/regression_obj.cu:171: reg:linear is now deprecated in favor of reg:squarederror.\n",
      "[19:36:30] WARNING: amalgamation/../src/objective/regression_obj.cu:171: reg:linear is now deprecated in favor of reg:squarederror.\n",
      "[19:36:31] WARNING: amalgamation/../src/objective/regression_obj.cu:171: reg:linear is now deprecated in favor of reg:squarederror.\n",
      "[19:36:32] WARNING: amalgamation/../src/objective/regression_obj.cu:171: reg:linear is now deprecated in favor of reg:squarederror.\n",
      "[19:36:33] WARNING: amalgamation/../src/objective/regression_obj.cu:171: reg:linear is now deprecated in favor of reg:squarederror.\n",
      "[19:36:34] WARNING: amalgamation/../src/objective/regression_obj.cu:171: reg:linear is now deprecated in favor of reg:squarederror.\n",
      "[19:36:34] WARNING: amalgamation/../src/objective/regression_obj.cu:171: reg:linear is now deprecated in favor of reg:squarederror.\n",
      "[19:36:35] WARNING: amalgamation/../src/objective/regression_obj.cu:171: reg:linear is now deprecated in favor of reg:squarederror.\n",
      "[19:36:36] WARNING: amalgamation/../src/objective/regression_obj.cu:171: reg:linear is now deprecated in favor of reg:squarederror.\n",
      "[19:36:38] WARNING: amalgamation/../src/objective/regression_obj.cu:171: reg:linear is now deprecated in favor of reg:squarederror.\n"
     ]
    },
    {
     "name": "stderr",
     "output_type": "stream",
     "text": [
      "Warning message:\n",
      "\"The shape palette can deal with a maximum of 6 discrete values because\n",
      "more than 6 becomes difficult to discriminate; you have 7. Consider\n",
      "specifying shapes manually if you must have them.\"Warning message:\n",
      "\"Removed 20 rows containing missing values (geom_point).\""
     ]
    },
    {
     "data": {
      "image/png": "[encoded data removed]",
      "text/plain": [
       "plot without title"
      ]
     },
     "metadata": {},
     "output_type": "display_data"
    }
   ],
   "source": [
    "tune_grid4 <- expand.grid(\n",
    "  nrounds = seq(from = 50, to = nrounds, by = 50),\n",
    "  eta = xgb_tune$bestTune$eta,\n",
    "  max_depth = xgb_tune2$bestTune$max_depth,\n",
    "  gamma = c(0, 0.05, 0.1, 0.5, 0.7, 0.9, 1.0),\n",
    "  colsample_bytree = xgb_tune3$bestTune$colsample_bytree,\n",
    "  min_child_weight = xgb_tune2$bestTune$min_child_weight,\n",
    "  subsample = xgb_tune3$bestTune$subsample\n",
    ")\n",
    "\n",
    "xgb_tune4 <- caret::train(\n",
    "  x = predictors,\n",
    "  y = output,\n",
    "  trControl = tune_control,\n",
    "  tuneGrid = tune_grid4,\n",
    "  method = \"xgbTree\",\n",
    "  verbose = TRUE\n",
    ")\n",
    "\n",
    "tuneplot(xgb_tune4)"
   ]
  },
  {
   "cell_type": "markdown",
   "metadata": {},
   "source": [
    "### 5 finding eta"
   ]
  },
  {
   "cell_type": "code",
   "execution_count": 21,
   "metadata": {},
   "outputs": [
    {
     "name": "stdout",
     "output_type": "stream",
     "text": [
      "[19:36:39] WARNING: amalgamation/../src/objective/regression_obj.cu:171: reg:linear is now deprecated in favor of reg:squarederror.\n",
      "[19:36:40] WARNING: amalgamation/../src/objective/regression_obj.cu:171: reg:linear is now deprecated in favor of reg:squarederror.\n",
      "[19:36:41] WARNING: amalgamation/../src/objective/regression_obj.cu:171: reg:linear is now deprecated in favor of reg:squarederror.\n",
      "[19:36:42] WARNING: amalgamation/../src/objective/regression_obj.cu:171: reg:linear is now deprecated in favor of reg:squarederror.\n",
      "[19:36:43] WARNING: amalgamation/../src/objective/regression_obj.cu:171: reg:linear is now deprecated in favor of reg:squarederror.\n",
      "[19:36:44] WARNING: amalgamation/../src/objective/regression_obj.cu:171: reg:linear is now deprecated in favor of reg:squarederror.\n",
      "[19:36:45] WARNING: amalgamation/../src/objective/regression_obj.cu:171: reg:linear is now deprecated in favor of reg:squarederror.\n",
      "[19:36:46] WARNING: amalgamation/../src/objective/regression_obj.cu:171: reg:linear is now deprecated in favor of reg:squarederror.\n",
      "[19:36:47] WARNING: amalgamation/../src/objective/regression_obj.cu:171: reg:linear is now deprecated in favor of reg:squarederror.\n",
      "[19:36:48] WARNING: amalgamation/../src/objective/regression_obj.cu:171: reg:linear is now deprecated in favor of reg:squarederror.\n",
      "[19:36:50] WARNING: amalgamation/../src/objective/regression_obj.cu:171: reg:linear is now deprecated in favor of reg:squarederror.\n",
      "[19:36:51] WARNING: amalgamation/../src/objective/regression_obj.cu:171: reg:linear is now deprecated in favor of reg:squarederror.\n",
      "[19:36:52] WARNING: amalgamation/../src/objective/regression_obj.cu:171: reg:linear is now deprecated in favor of reg:squarederror.\n",
      "[19:36:53] WARNING: amalgamation/../src/objective/regression_obj.cu:171: reg:linear is now deprecated in favor of reg:squarederror.\n",
      "[19:36:54] WARNING: amalgamation/../src/objective/regression_obj.cu:171: reg:linear is now deprecated in favor of reg:squarederror.\n",
      "[19:36:55] WARNING: amalgamation/../src/objective/regression_obj.cu:171: reg:linear is now deprecated in favor of reg:squarederror.\n"
     ]
    },
    {
     "data": {
      "image/png": "[encoded data removed]",
      "text/plain": [
       "plot without title"
      ]
     },
     "metadata": {},
     "output_type": "display_data"
    }
   ],
   "source": [
    "tune_grid5 <- expand.grid(\n",
    "  nrounds = seq(from = 100, to = nrounds, by = 100),\n",
    "  eta = c(0.01, 0.015, 0.025, 0.05, 0.1),\n",
    "  max_depth = xgb_tune2$bestTune$max_depth,\n",
    "  gamma = xgb_tune4$bestTune$gamma,\n",
    "  colsample_bytree = xgb_tune3$bestTune$colsample_bytree,\n",
    "  min_child_weight = xgb_tune2$bestTune$min_child_weight,\n",
    "  subsample = xgb_tune3$bestTune$subsample\n",
    ")\n",
    "\n",
    "xgb_tune5 <- caret::train(\n",
    "  x = predictors,\n",
    "  y = output,\n",
    "  trControl = tune_control,\n",
    "  tuneGrid = tune_grid5,\n",
    "  method = \"xgbTree\",\n",
    "  verbose = TRUE\n",
    ")\n",
    "\n",
    "tuneplot(xgb_tune5)"
   ]
  },
  {
   "cell_type": "code",
   "execution_count": 22,
   "metadata": {},
   "outputs": [
    {
     "data": {
      "text/html": [
       "<table>\n",
       "<thead><tr><th scope=col>nrounds</th><th scope=col>eta</th><th scope=col>max_depth</th><th scope=col>gamma</th><th scope=col>colsample_bytree</th><th scope=col>min_child_weight</th><th scope=col>subsample</th></tr></thead>\n",
       "<tbody>\n",
       "\t<tr><td>1000 </td><td>0.025</td><td>3    </td><td>0.1  </td><td>0.4  </td><td>3    </td><td>0.75 </td></tr>\n",
       "</tbody>\n",
       "</table>\n"
      ],
      "text/latex": [
       "\\begin{tabular}{r|lllllll}\n",
       " nrounds & eta & max\\_depth & gamma & colsample\\_bytree & min\\_child\\_weight & subsample\\\\\n",
       "\\hline\n",
       "\t 1000  & 0.025 & 3     & 0.1   & 0.4   & 3     & 0.75 \\\\\n",
       "\\end{tabular}\n"
      ],
      "text/markdown": [
       "\n",
       "| nrounds | eta | max_depth | gamma | colsample_bytree | min_child_weight | subsample |\n",
       "|---|---|---|---|---|---|---|\n",
       "| 1000  | 0.025 | 3     | 0.1   | 0.4   | 3     | 0.75  |\n",
       "\n"
      ],
      "text/plain": [
       "  nrounds eta   max_depth gamma colsample_bytree min_child_weight subsample\n",
       "1 1000    0.025 3         0.1   0.4              3                0.75     "
      ]
     },
     "metadata": {},
     "output_type": "display_data"
    },
    {
     "name": "stdout",
     "output_type": "stream",
     "text": [
      "[19:36:57] WARNING: amalgamation/../src/objective/regression_obj.cu:171: reg:linear is now deprecated in favor of reg:squarederror.\n"
     ]
    },
    {
     "data": {
      "text/plain": [
       "eXtreme Gradient Boosting \n",
       "\n",
       "216 samples\n",
       " 40 predictor\n",
       "\n",
       "No pre-processing\n",
       "Resampling: None "
      ]
     },
     "metadata": {},
     "output_type": "display_data"
    }
   ],
   "source": [
    "(final_grid <- expand.grid(\n",
    "  nrounds = xgb_tune5$bestTune$nrounds,\n",
    "  eta = xgb_tune5$bestTune$eta,\n",
    "  max_depth = xgb_tune5$bestTune$max_depth,\n",
    "  gamma = xgb_tune5$bestTune$gamma,\n",
    "  colsample_bytree = xgb_tune5$bestTune$colsample_bytree,\n",
    "  min_child_weight = xgb_tune5$bestTune$min_child_weight,\n",
    "  subsample = xgb_tune5$bestTune$subsample\n",
    "))\n",
    "(xgb_model <- caret::train(\n",
    "  x = predictors,\n",
    "  y = output,\n",
    "  trControl = train_control,\n",
    "  tuneGrid = final_grid,\n",
    "  method = \"xgbTree\",\n",
    "  verbose = TRUE\n",
    "))"
   ]
  },
  {
   "cell_type": "markdown",
   "metadata": {},
   "source": [
    "### Comparing RSME of xgb models"
   ]
  },
  {
   "cell_type": "code",
   "execution_count": 23,
   "metadata": {},
   "outputs": [
    {
     "name": "stdout",
     "output_type": "stream",
     "text": [
      "[1] \"Base xgb_model mean error:\"\n",
      "[1] 2.771894\n",
      "[1] \"Tuned xgb_model mean error:\"\n",
      "[1] 2.068039\n"
     ]
    }
   ],
   "source": [
    "# get rmse for the base model on the testing data\n",
    "print(\"Base xgb_model mean error:\")\n",
    "print(rmse(predict(xgb_base, testing), testing$Rating))\n",
    "\n",
    "# get rmse for the tuned model on the testing data\n",
    "print(\"Tuned xgb_model mean error:\")\n",
    "print(rmse(predict(xgb_model, testing), testing$Rating))"
   ]
  },
  {
   "cell_type": "code",
   "execution_count": 24,
   "metadata": {},
   "outputs": [
    {
     "data": {
      "text/html": [
       "27.2464814146517"
      ],
      "text/latex": [
       "27.2464814146517"
      ],
      "text/markdown": [
       "27.2464814146517"
      ],
      "text/plain": [
       "[1] 27.24648"
      ]
     },
     "metadata": {},
     "output_type": "display_data"
    }
   ],
   "source": [
    "(1 -(2.016/2.771)) * 100.0"
   ]
  },
  {
   "cell_type": "code",
   "execution_count": 25,
   "metadata": {},
   "outputs": [
    {
     "name": "stdout",
     "output_type": "stream",
     "text": [
      "[1]\ttrain-rmse:72.352959 \n",
      "[2]\ttrain-rmse:70.561020 \n",
      "[3]\ttrain-rmse:68.827660 \n",
      "[4]\ttrain-rmse:67.128113 \n",
      "[5]\ttrain-rmse:65.487144 \n",
      "[6]\ttrain-rmse:63.881775 \n",
      "[7]\ttrain-rmse:62.322174 \n",
      "[8]\ttrain-rmse:60.792213 \n",
      "[9]\ttrain-rmse:59.294853 \n",
      "[10]\ttrain-rmse:57.832809 \n",
      "[11]\ttrain-rmse:56.402279 \n",
      "[12]\ttrain-rmse:55.013279 \n",
      "[13]\ttrain-rmse:53.672592 \n",
      "[14]\ttrain-rmse:52.357468 \n",
      "[15]\ttrain-rmse:51.074390 \n",
      "[16]\ttrain-rmse:49.835655 \n",
      "[17]\ttrain-rmse:48.624344 \n",
      "[18]\ttrain-rmse:47.437363 \n",
      "[19]\ttrain-rmse:46.278801 \n",
      "[20]\ttrain-rmse:45.161888 \n",
      "[21]\ttrain-rmse:44.063320 \n",
      "[22]\ttrain-rmse:42.989292 \n",
      "[23]\ttrain-rmse:41.946655 \n",
      "[24]\ttrain-rmse:40.922073 \n",
      "[25]\ttrain-rmse:39.928963 \n",
      "[26]\ttrain-rmse:38.958714 \n",
      "[27]\ttrain-rmse:38.008274 \n",
      "[28]\ttrain-rmse:37.080647 \n",
      "[29]\ttrain-rmse:36.178299 \n",
      "[30]\ttrain-rmse:35.302448 \n",
      "[31]\ttrain-rmse:34.448471 \n",
      "[32]\ttrain-rmse:33.611313 \n",
      "[33]\ttrain-rmse:32.799377 \n",
      "[34]\ttrain-rmse:32.005379 \n",
      "[35]\ttrain-rmse:31.224543 \n",
      "[36]\ttrain-rmse:30.475801 \n",
      "[37]\ttrain-rmse:29.742844 \n",
      "[38]\ttrain-rmse:29.026768 \n",
      "[39]\ttrain-rmse:28.327982 \n",
      "[40]\ttrain-rmse:27.647581 \n",
      "[41]\ttrain-rmse:26.990065 \n",
      "[42]\ttrain-rmse:26.343603 \n",
      "[43]\ttrain-rmse:25.706312 \n",
      "[44]\ttrain-rmse:25.085962 \n",
      "[45]\ttrain-rmse:24.485481 \n",
      "[46]\ttrain-rmse:23.908304 \n",
      "[47]\ttrain-rmse:23.339041 \n",
      "[48]\ttrain-rmse:22.782572 \n",
      "[49]\ttrain-rmse:22.243776 \n",
      "[50]\ttrain-rmse:21.719439 \n",
      "[51]\ttrain-rmse:21.205624 \n",
      "[52]\ttrain-rmse:20.701435 \n",
      "[53]\ttrain-rmse:20.206686 \n",
      "[54]\ttrain-rmse:19.730341 \n",
      "[55]\ttrain-rmse:19.262747 \n",
      "[56]\ttrain-rmse:18.804878 \n",
      "[57]\ttrain-rmse:18.369146 \n",
      "[58]\ttrain-rmse:17.946436 \n",
      "[59]\ttrain-rmse:17.525293 \n",
      "[60]\ttrain-rmse:17.110720 \n",
      "[61]\ttrain-rmse:16.708708 \n",
      "[62]\ttrain-rmse:16.314957 \n",
      "[63]\ttrain-rmse:15.937855 \n",
      "[64]\ttrain-rmse:15.559031 \n",
      "[65]\ttrain-rmse:15.191975 \n",
      "[66]\ttrain-rmse:14.838681 \n",
      "[67]\ttrain-rmse:14.500367 \n",
      "[68]\ttrain-rmse:14.159853 \n",
      "[69]\ttrain-rmse:13.833416 \n",
      "[70]\ttrain-rmse:13.516162 \n",
      "[71]\ttrain-rmse:13.204106 \n",
      "[72]\ttrain-rmse:12.900237 \n",
      "[73]\ttrain-rmse:12.597388 \n",
      "[74]\ttrain-rmse:12.306252 \n",
      "[75]\ttrain-rmse:12.025550 \n",
      "[76]\ttrain-rmse:11.749559 \n",
      "[77]\ttrain-rmse:11.482092 \n",
      "[78]\ttrain-rmse:11.216830 \n",
      "[79]\ttrain-rmse:10.961506 \n",
      "[80]\ttrain-rmse:10.709155 \n",
      "[81]\ttrain-rmse:10.470466 \n",
      "[82]\ttrain-rmse:10.235677 \n",
      "[83]\ttrain-rmse:10.005972 \n",
      "[84]\ttrain-rmse:9.777897 \n",
      "[85]\ttrain-rmse:9.556512 \n",
      "[86]\ttrain-rmse:9.341262 \n",
      "[87]\ttrain-rmse:9.140297 \n",
      "[88]\ttrain-rmse:8.934611 \n",
      "[89]\ttrain-rmse:8.732679 \n",
      "[90]\ttrain-rmse:8.536353 \n",
      "[91]\ttrain-rmse:8.350431 \n",
      "[92]\ttrain-rmse:8.167415 \n",
      "[93]\ttrain-rmse:7.987431 \n",
      "[94]\ttrain-rmse:7.817737 \n",
      "[95]\ttrain-rmse:7.645691 \n",
      "[96]\ttrain-rmse:7.477695 \n",
      "[97]\ttrain-rmse:7.319565 \n",
      "[98]\ttrain-rmse:7.160994 \n",
      "[99]\ttrain-rmse:7.007700 \n",
      "[100]\ttrain-rmse:6.858339 \n",
      "[101]\ttrain-rmse:6.714696 \n",
      "[102]\ttrain-rmse:6.573991 \n",
      "[103]\ttrain-rmse:6.439464 \n",
      "[104]\ttrain-rmse:6.309236 \n",
      "[105]\ttrain-rmse:6.175485 \n",
      "[106]\ttrain-rmse:6.048763 \n",
      "[107]\ttrain-rmse:5.926700 \n",
      "[108]\ttrain-rmse:5.800984 \n",
      "[109]\ttrain-rmse:5.682312 \n",
      "[110]\ttrain-rmse:5.565718 \n",
      "[111]\ttrain-rmse:5.450438 \n",
      "[112]\ttrain-rmse:5.341122 \n",
      "[113]\ttrain-rmse:5.232672 \n",
      "[114]\ttrain-rmse:5.129753 \n",
      "[115]\ttrain-rmse:5.029508 \n",
      "[116]\ttrain-rmse:4.936234 \n",
      "[117]\ttrain-rmse:4.840333 \n",
      "[118]\ttrain-rmse:4.750529 \n",
      "[119]\ttrain-rmse:4.664771 \n",
      "[120]\ttrain-rmse:4.577511 \n",
      "[121]\ttrain-rmse:4.491625 \n",
      "[122]\ttrain-rmse:4.405584 \n",
      "[123]\ttrain-rmse:4.326473 \n",
      "[124]\ttrain-rmse:4.249178 \n",
      "[125]\ttrain-rmse:4.173248 \n",
      "[126]\ttrain-rmse:4.096588 \n",
      "[127]\ttrain-rmse:4.024907 \n",
      "[128]\ttrain-rmse:3.954596 \n",
      "[129]\ttrain-rmse:3.884223 \n",
      "[130]\ttrain-rmse:3.814666 \n",
      "[131]\ttrain-rmse:3.749232 \n",
      "[132]\ttrain-rmse:3.688560 \n",
      "[133]\ttrain-rmse:3.628619 \n",
      "[134]\ttrain-rmse:3.567849 \n",
      "[135]\ttrain-rmse:3.508988 \n",
      "[136]\ttrain-rmse:3.451829 \n",
      "[137]\ttrain-rmse:3.397758 \n",
      "[138]\ttrain-rmse:3.342898 \n",
      "[139]\ttrain-rmse:3.292592 \n",
      "[140]\ttrain-rmse:3.243590 \n",
      "[141]\ttrain-rmse:3.191674 \n",
      "[142]\ttrain-rmse:3.142081 \n",
      "[143]\ttrain-rmse:3.096803 \n",
      "[144]\ttrain-rmse:3.051000 \n",
      "[145]\ttrain-rmse:3.006029 \n",
      "[146]\ttrain-rmse:2.961112 \n",
      "[147]\ttrain-rmse:2.919195 \n",
      "[148]\ttrain-rmse:2.879120 \n",
      "[149]\ttrain-rmse:2.837332 \n",
      "[150]\ttrain-rmse:2.795326 \n",
      "[151]\ttrain-rmse:2.757277 \n",
      "[152]\ttrain-rmse:2.720503 \n",
      "[153]\ttrain-rmse:2.685598 \n",
      "[154]\ttrain-rmse:2.650772 \n",
      "[155]\ttrain-rmse:2.618548 \n",
      "[156]\ttrain-rmse:2.582990 \n",
      "[157]\ttrain-rmse:2.552006 \n",
      "[158]\ttrain-rmse:2.519513 \n",
      "[159]\ttrain-rmse:2.486615 \n",
      "[160]\ttrain-rmse:2.458177 \n",
      "[161]\ttrain-rmse:2.427312 \n",
      "[162]\ttrain-rmse:2.396651 \n",
      "[163]\ttrain-rmse:2.370024 \n",
      "[164]\ttrain-rmse:2.340365 \n",
      "[165]\ttrain-rmse:2.313570 \n",
      "[166]\ttrain-rmse:2.284920 \n",
      "[167]\ttrain-rmse:2.259678 \n",
      "[168]\ttrain-rmse:2.235764 \n",
      "[169]\ttrain-rmse:2.211344 \n",
      "[170]\ttrain-rmse:2.188206 \n",
      "[171]\ttrain-rmse:2.164663 \n",
      "[172]\ttrain-rmse:2.140418 \n",
      "[173]\ttrain-rmse:2.118245 \n",
      "[174]\ttrain-rmse:2.099766 \n",
      "[175]\ttrain-rmse:2.080344 \n",
      "[176]\ttrain-rmse:2.060025 \n",
      "[177]\ttrain-rmse:2.043451 \n",
      "[178]\ttrain-rmse:2.025359 \n",
      "[179]\ttrain-rmse:2.009785 \n",
      "[180]\ttrain-rmse:1.991576 \n",
      "[181]\ttrain-rmse:1.973727 \n",
      "[182]\ttrain-rmse:1.954455 \n",
      "[183]\ttrain-rmse:1.937251 \n",
      "[184]\ttrain-rmse:1.921195 \n",
      "[185]\ttrain-rmse:1.905065 \n",
      "[186]\ttrain-rmse:1.889890 \n",
      "[187]\ttrain-rmse:1.875743 \n",
      "[188]\ttrain-rmse:1.859741 \n",
      "[189]\ttrain-rmse:1.845279 \n",
      "[190]\ttrain-rmse:1.827229 \n",
      "[191]\ttrain-rmse:1.815238 \n",
      "[192]\ttrain-rmse:1.801841 \n",
      "[193]\ttrain-rmse:1.785607 \n",
      "[194]\ttrain-rmse:1.769118 \n",
      "[195]\ttrain-rmse:1.753072 \n",
      "[196]\ttrain-rmse:1.740865 \n",
      "[197]\ttrain-rmse:1.728882 \n",
      "[198]\ttrain-rmse:1.718392 \n",
      "[199]\ttrain-rmse:1.703655 \n",
      "[200]\ttrain-rmse:1.691752 \n",
      "[201]\ttrain-rmse:1.681762 \n",
      "[202]\ttrain-rmse:1.669511 \n",
      "[203]\ttrain-rmse:1.655666 \n",
      "[204]\ttrain-rmse:1.643715 \n",
      "[205]\ttrain-rmse:1.633458 \n",
      "[206]\ttrain-rmse:1.624863 \n",
      "[207]\ttrain-rmse:1.613349 \n",
      "[208]\ttrain-rmse:1.599721 \n",
      "[209]\ttrain-rmse:1.591715 \n",
      "[210]\ttrain-rmse:1.583353 \n",
      "[211]\ttrain-rmse:1.575715 \n",
      "[212]\ttrain-rmse:1.569434 \n",
      "[213]\ttrain-rmse:1.559753 \n",
      "[214]\ttrain-rmse:1.549107 \n",
      "[215]\ttrain-rmse:1.538268 \n",
      "[216]\ttrain-rmse:1.529216 \n",
      "[217]\ttrain-rmse:1.521822 \n",
      "[218]\ttrain-rmse:1.514273 \n",
      "[219]\ttrain-rmse:1.506458 \n",
      "[220]\ttrain-rmse:1.497601 \n",
      "[221]\ttrain-rmse:1.488023 \n",
      "[222]\ttrain-rmse:1.479492 \n",
      "[223]\ttrain-rmse:1.472296 \n",
      "[224]\ttrain-rmse:1.467162 \n",
      "[225]\ttrain-rmse:1.459776 \n",
      "[226]\ttrain-rmse:1.449396 \n",
      "[227]\ttrain-rmse:1.440733 \n",
      "[228]\ttrain-rmse:1.435096 \n",
      "[229]\ttrain-rmse:1.428446 \n",
      "[230]\ttrain-rmse:1.422600 \n",
      "[231]\ttrain-rmse:1.414012 \n",
      "[232]\ttrain-rmse:1.405144 \n",
      "[233]\ttrain-rmse:1.397143 \n",
      "[234]\ttrain-rmse:1.391859 \n",
      "[235]\ttrain-rmse:1.387023 \n",
      "[236]\ttrain-rmse:1.380676 \n",
      "[237]\ttrain-rmse:1.373875 \n",
      "[238]\ttrain-rmse:1.366526 \n",
      "[239]\ttrain-rmse:1.361086 \n",
      "[240]\ttrain-rmse:1.355704 \n",
      "[241]\ttrain-rmse:1.348024 \n",
      "[242]\ttrain-rmse:1.340748 \n",
      "[243]\ttrain-rmse:1.334851 \n",
      "[244]\ttrain-rmse:1.329540 \n",
      "[245]\ttrain-rmse:1.323214 \n",
      "[246]\ttrain-rmse:1.318850 \n",
      "[247]\ttrain-rmse:1.312948 \n",
      "[248]\ttrain-rmse:1.303405 \n",
      "[249]\ttrain-rmse:1.299527 \n",
      "[250]\ttrain-rmse:1.293589 \n",
      "[251]\ttrain-rmse:1.289405 \n",
      "[252]\ttrain-rmse:1.283765 \n",
      "[253]\ttrain-rmse:1.279708 \n",
      "[254]\ttrain-rmse:1.275770 \n",
      "[255]\ttrain-rmse:1.269932 \n",
      "[256]\ttrain-rmse:1.266013 \n",
      "[257]\ttrain-rmse:1.259202 \n",
      "[258]\ttrain-rmse:1.253934 \n",
      "[259]\ttrain-rmse:1.247749 \n",
      "[260]\ttrain-rmse:1.241910 \n",
      "[261]\ttrain-rmse:1.236391 \n",
      "[262]\ttrain-rmse:1.231434 \n",
      "[263]\ttrain-rmse:1.227970 \n",
      "[264]\ttrain-rmse:1.222706 \n",
      "[265]\ttrain-rmse:1.218326 \n",
      "[266]\ttrain-rmse:1.214373 \n",
      "[267]\ttrain-rmse:1.210638 \n",
      "[268]\ttrain-rmse:1.206485 \n",
      "[269]\ttrain-rmse:1.199854 \n",
      "[270]\ttrain-rmse:1.194853 \n",
      "[271]\ttrain-rmse:1.191907 \n",
      "[272]\ttrain-rmse:1.187552 \n",
      "[273]\ttrain-rmse:1.179772 \n",
      "[274]\ttrain-rmse:1.175277 \n",
      "[275]\ttrain-rmse:1.169069 \n",
      "[276]\ttrain-rmse:1.164177 \n",
      "[277]\ttrain-rmse:1.159475 \n",
      "[278]\ttrain-rmse:1.156590 \n",
      "[279]\ttrain-rmse:1.152072 \n",
      "[280]\ttrain-rmse:1.147601 \n",
      "[281]\ttrain-rmse:1.140492 \n",
      "[282]\ttrain-rmse:1.136682 \n",
      "[283]\ttrain-rmse:1.134262 \n",
      "[284]\ttrain-rmse:1.131469 \n",
      "[285]\ttrain-rmse:1.125060 \n",
      "[286]\ttrain-rmse:1.119044 \n",
      "[287]\ttrain-rmse:1.115076 \n",
      "[288]\ttrain-rmse:1.110046 \n",
      "[289]\ttrain-rmse:1.105549 \n",
      "[290]\ttrain-rmse:1.101409 \n",
      "[291]\ttrain-rmse:1.097040 \n",
      "[292]\ttrain-rmse:1.091719 \n",
      "[293]\ttrain-rmse:1.088625 \n",
      "[294]\ttrain-rmse:1.084714 \n",
      "[295]\ttrain-rmse:1.080422 \n",
      "[296]\ttrain-rmse:1.075369 \n",
      "[297]\ttrain-rmse:1.072180 \n",
      "[298]\ttrain-rmse:1.069988 \n",
      "[299]\ttrain-rmse:1.068028 \n",
      "[300]\ttrain-rmse:1.063767 \n",
      "[301]\ttrain-rmse:1.057877 \n",
      "[302]\ttrain-rmse:1.054248 \n",
      "[303]\ttrain-rmse:1.052363 \n",
      "[304]\ttrain-rmse:1.050209 \n",
      "[305]\ttrain-rmse:1.044360 \n",
      "[306]\ttrain-rmse:1.039930 \n",
      "[307]\ttrain-rmse:1.035678 \n",
      "[308]\ttrain-rmse:1.031062 \n",
      "[309]\ttrain-rmse:1.026360 \n",
      "[310]\ttrain-rmse:1.021023 \n",
      "[311]\ttrain-rmse:1.015521 \n",
      "[312]\ttrain-rmse:1.011634 \n",
      "[313]\ttrain-rmse:1.005685 \n",
      "[314]\ttrain-rmse:1.003920 \n",
      "[315]\ttrain-rmse:1.000951 \n",
      "[316]\ttrain-rmse:0.996322 \n",
      "[317]\ttrain-rmse:0.994701 \n",
      "[318]\ttrain-rmse:0.990291 \n",
      "[319]\ttrain-rmse:0.986400 \n",
      "[320]\ttrain-rmse:0.983216 \n",
      "[321]\ttrain-rmse:0.979463 \n",
      "[322]\ttrain-rmse:0.977578 \n",
      "[323]\ttrain-rmse:0.973019 \n",
      "[324]\ttrain-rmse:0.969509 \n",
      "[325]\ttrain-rmse:0.964417 \n",
      "[326]\ttrain-rmse:0.962007 \n",
      "[327]\ttrain-rmse:0.958298 \n",
      "[328]\ttrain-rmse:0.953652 \n",
      "[329]\ttrain-rmse:0.948948 \n",
      "[330]\ttrain-rmse:0.944329 \n",
      "[331]\ttrain-rmse:0.941918 \n",
      "[332]\ttrain-rmse:0.939566 \n",
      "[333]\ttrain-rmse:0.937320 \n",
      "[334]\ttrain-rmse:0.934566 \n",
      "[335]\ttrain-rmse:0.930875 \n",
      "[336]\ttrain-rmse:0.928659 \n",
      "[337]\ttrain-rmse:0.925836 \n",
      "[338]\ttrain-rmse:0.919372 \n",
      "[339]\ttrain-rmse:0.916394 \n",
      "[340]\ttrain-rmse:0.913962 \n",
      "[341]\ttrain-rmse:0.910720 \n",
      "[342]\ttrain-rmse:0.907629 \n",
      "[343]\ttrain-rmse:0.904653 \n",
      "[344]\ttrain-rmse:0.901660 \n",
      "[345]\ttrain-rmse:0.898116 \n",
      "[346]\ttrain-rmse:0.896637 \n",
      "[347]\ttrain-rmse:0.892389 \n",
      "[348]\ttrain-rmse:0.887897 \n",
      "[349]\ttrain-rmse:0.885618 \n",
      "[350]\ttrain-rmse:0.881694 \n",
      "[351]\ttrain-rmse:0.879470 \n",
      "[352]\ttrain-rmse:0.877904 \n",
      "[353]\ttrain-rmse:0.874438 \n",
      "[354]\ttrain-rmse:0.870538 \n",
      "[355]\ttrain-rmse:0.866871 \n",
      "[356]\ttrain-rmse:0.864380 \n",
      "[357]\ttrain-rmse:0.862233 \n",
      "[358]\ttrain-rmse:0.859735 \n",
      "[359]\ttrain-rmse:0.855257 \n",
      "[360]\ttrain-rmse:0.852276 \n",
      "[361]\ttrain-rmse:0.849216 \n",
      "[362]\ttrain-rmse:0.846523 \n",
      "[363]\ttrain-rmse:0.842731 \n",
      "[364]\ttrain-rmse:0.839409 \n",
      "[365]\ttrain-rmse:0.837633 \n",
      "[366]\ttrain-rmse:0.834065 \n",
      "[367]\ttrain-rmse:0.832066 \n",
      "[368]\ttrain-rmse:0.828998 \n",
      "[369]\ttrain-rmse:0.826937 \n",
      "[370]\ttrain-rmse:0.825510 \n",
      "[371]\ttrain-rmse:0.823253 \n",
      "[372]\ttrain-rmse:0.820797 \n",
      "[373]\ttrain-rmse:0.819181 \n",
      "[374]\ttrain-rmse:0.815749 \n",
      "[375]\ttrain-rmse:0.813563 \n",
      "[376]\ttrain-rmse:0.811254 \n",
      "[377]\ttrain-rmse:0.807597 \n",
      "[378]\ttrain-rmse:0.804197 \n",
      "[379]\ttrain-rmse:0.800382 \n",
      "[380]\ttrain-rmse:0.798877 \n",
      "[381]\ttrain-rmse:0.796626 \n",
      "[382]\ttrain-rmse:0.793801 \n",
      "[383]\ttrain-rmse:0.789061 \n",
      "[384]\ttrain-rmse:0.787328 \n",
      "[385]\ttrain-rmse:0.785342 \n",
      "[386]\ttrain-rmse:0.782565 \n",
      "[387]\ttrain-rmse:0.779977 \n",
      "[388]\ttrain-rmse:0.778703 \n",
      "[389]\ttrain-rmse:0.775162 \n",
      "[390]\ttrain-rmse:0.772948 \n",
      "[391]\ttrain-rmse:0.769671 \n",
      "[392]\ttrain-rmse:0.768105 \n",
      "[393]\ttrain-rmse:0.765696 \n",
      "[394]\ttrain-rmse:0.763393 \n",
      "[395]\ttrain-rmse:0.761994 \n",
      "[396]\ttrain-rmse:0.760186 \n",
      "[397]\ttrain-rmse:0.758770 \n",
      "[398]\ttrain-rmse:0.754890 \n",
      "[399]\ttrain-rmse:0.753668 \n",
      "[400]\ttrain-rmse:0.750543 \n",
      "[401]\ttrain-rmse:0.748028 \n",
      "[402]\ttrain-rmse:0.746149 \n",
      "[403]\ttrain-rmse:0.743580 \n",
      "[404]\ttrain-rmse:0.740834 \n",
      "[405]\ttrain-rmse:0.738440 \n",
      "[406]\ttrain-rmse:0.735158 \n",
      "[407]\ttrain-rmse:0.732326 \n",
      "[408]\ttrain-rmse:0.728443 \n",
      "[409]\ttrain-rmse:0.727159 \n",
      "[410]\ttrain-rmse:0.726265 \n",
      "[411]\ttrain-rmse:0.723585 \n",
      "[412]\ttrain-rmse:0.722290 \n",
      "[413]\ttrain-rmse:0.720839 \n",
      "[414]\ttrain-rmse:0.719830 \n",
      "[415]\ttrain-rmse:0.716955 \n",
      "[416]\ttrain-rmse:0.714177 \n",
      "[417]\ttrain-rmse:0.710287 \n",
      "[418]\ttrain-rmse:0.706953 \n",
      "[419]\ttrain-rmse:0.703733 \n",
      "[420]\ttrain-rmse:0.701960 \n",
      "[421]\ttrain-rmse:0.699704 \n",
      "[422]\ttrain-rmse:0.697626 \n",
      "[423]\ttrain-rmse:0.696834 \n",
      "[424]\ttrain-rmse:0.693692 \n",
      "[425]\ttrain-rmse:0.692156 \n",
      "[426]\ttrain-rmse:0.690364 \n",
      "[427]\ttrain-rmse:0.688438 \n",
      "[428]\ttrain-rmse:0.685748 \n",
      "[429]\ttrain-rmse:0.683598 \n",
      "[430]\ttrain-rmse:0.682187 \n",
      "[431]\ttrain-rmse:0.680818 \n",
      "[432]\ttrain-rmse:0.678730 \n",
      "[433]\ttrain-rmse:0.675515 \n",
      "[434]\ttrain-rmse:0.672506 \n",
      "[435]\ttrain-rmse:0.670352 \n",
      "[436]\ttrain-rmse:0.668753 \n",
      "[437]\ttrain-rmse:0.667152 \n",
      "[438]\ttrain-rmse:0.665506 \n",
      "[439]\ttrain-rmse:0.662136 \n",
      "[440]\ttrain-rmse:0.661111 \n",
      "[441]\ttrain-rmse:0.658800 \n",
      "[442]\ttrain-rmse:0.657719 \n",
      "[443]\ttrain-rmse:0.655792 \n",
      "[444]\ttrain-rmse:0.653675 \n",
      "[445]\ttrain-rmse:0.652205 \n",
      "[446]\ttrain-rmse:0.649382 \n",
      "[447]\ttrain-rmse:0.647987 \n",
      "[448]\ttrain-rmse:0.645802 \n",
      "[449]\ttrain-rmse:0.644042 \n",
      "[450]\ttrain-rmse:0.640696 \n",
      "[451]\ttrain-rmse:0.639406 \n",
      "[452]\ttrain-rmse:0.637827 \n",
      "[453]\ttrain-rmse:0.636269 \n",
      "[454]\ttrain-rmse:0.634601 \n",
      "[455]\ttrain-rmse:0.631798 \n",
      "[456]\ttrain-rmse:0.629758 \n",
      "[457]\ttrain-rmse:0.628571 \n",
      "[458]\ttrain-rmse:0.626302 \n",
      "[459]\ttrain-rmse:0.624135 \n",
      "[460]\ttrain-rmse:0.621419 \n",
      "[461]\ttrain-rmse:0.620613 \n",
      "[462]\ttrain-rmse:0.619619 \n",
      "[463]\ttrain-rmse:0.617436 \n",
      "[464]\ttrain-rmse:0.615164 \n",
      "[465]\ttrain-rmse:0.613413 \n",
      "[466]\ttrain-rmse:0.611574 \n",
      "[467]\ttrain-rmse:0.609203 \n",
      "[468]\ttrain-rmse:0.607792 \n",
      "[469]\ttrain-rmse:0.606776 \n",
      "[470]\ttrain-rmse:0.604804 \n",
      "[471]\ttrain-rmse:0.602747 \n",
      "[472]\ttrain-rmse:0.601123 \n",
      "[473]\ttrain-rmse:0.599127 \n",
      "[474]\ttrain-rmse:0.597692 \n",
      "[475]\ttrain-rmse:0.595583 \n",
      "[476]\ttrain-rmse:0.593161 \n",
      "[477]\ttrain-rmse:0.592061 \n",
      "[478]\ttrain-rmse:0.589527 \n",
      "[479]\ttrain-rmse:0.587780 \n",
      "[480]\ttrain-rmse:0.586152 \n",
      "[481]\ttrain-rmse:0.583751 \n",
      "[482]\ttrain-rmse:0.581210 \n",
      "[483]\ttrain-rmse:0.579976 \n",
      "[484]\ttrain-rmse:0.579160 \n",
      "[485]\ttrain-rmse:0.578532 \n",
      "[486]\ttrain-rmse:0.576905 \n",
      "[487]\ttrain-rmse:0.576441 \n",
      "[488]\ttrain-rmse:0.574653 \n",
      "[489]\ttrain-rmse:0.573138 \n",
      "[490]\ttrain-rmse:0.570373 \n",
      "[491]\ttrain-rmse:0.568346 \n",
      "[492]\ttrain-rmse:0.566651 \n",
      "[493]\ttrain-rmse:0.565408 \n",
      "[494]\ttrain-rmse:0.563181 \n",
      "[495]\ttrain-rmse:0.562770 \n",
      "[496]\ttrain-rmse:0.561178 \n",
      "[497]\ttrain-rmse:0.560386 \n",
      "[498]\ttrain-rmse:0.559132 \n",
      "[499]\ttrain-rmse:0.557488 \n",
      "[500]\ttrain-rmse:0.555306 \n",
      "[501]\ttrain-rmse:0.553958 \n",
      "[502]\ttrain-rmse:0.551986 \n",
      "[503]\ttrain-rmse:0.549662 \n",
      "[504]\ttrain-rmse:0.548116 \n",
      "[505]\ttrain-rmse:0.546075 \n",
      "[506]\ttrain-rmse:0.544347 \n",
      "[507]\ttrain-rmse:0.543386 \n",
      "[508]\ttrain-rmse:0.542793 \n",
      "[509]\ttrain-rmse:0.541410 \n",
      "[510]\ttrain-rmse:0.540254 \n",
      "[511]\ttrain-rmse:0.538721 \n",
      "[512]\ttrain-rmse:0.537325 \n",
      "[513]\ttrain-rmse:0.536357 \n",
      "[514]\ttrain-rmse:0.535528 \n",
      "[515]\ttrain-rmse:0.534003 \n",
      "[516]\ttrain-rmse:0.532108 \n",
      "[517]\ttrain-rmse:0.530180 \n",
      "[518]\ttrain-rmse:0.528046 \n",
      "[519]\ttrain-rmse:0.526836 \n",
      "[520]\ttrain-rmse:0.524585 \n",
      "[521]\ttrain-rmse:0.523208 \n",
      "[522]\ttrain-rmse:0.521471 \n",
      "[523]\ttrain-rmse:0.519372 \n",
      "[524]\ttrain-rmse:0.517500 \n",
      "[525]\ttrain-rmse:0.516691 \n",
      "[526]\ttrain-rmse:0.516070 \n",
      "[527]\ttrain-rmse:0.514225 \n",
      "[528]\ttrain-rmse:0.512202 \n",
      "[529]\ttrain-rmse:0.511173 \n",
      "[530]\ttrain-rmse:0.509636 \n",
      "[531]\ttrain-rmse:0.508036 \n",
      "[532]\ttrain-rmse:0.506431 \n",
      "[533]\ttrain-rmse:0.505825 \n",
      "[534]\ttrain-rmse:0.505186 \n",
      "[535]\ttrain-rmse:0.503512 \n",
      "[536]\ttrain-rmse:0.502578 \n",
      "[537]\ttrain-rmse:0.500148 \n",
      "[538]\ttrain-rmse:0.498782 \n",
      "[539]\ttrain-rmse:0.497419 \n",
      "[540]\ttrain-rmse:0.496780 \n",
      "[541]\ttrain-rmse:0.495727 \n",
      "[542]\ttrain-rmse:0.495070 \n",
      "[543]\ttrain-rmse:0.493608 \n",
      "[544]\ttrain-rmse:0.492441 \n",
      "[545]\ttrain-rmse:0.490615 \n",
      "[546]\ttrain-rmse:0.489627 \n",
      "[547]\ttrain-rmse:0.487406 \n",
      "[548]\ttrain-rmse:0.486135 \n",
      "[549]\ttrain-rmse:0.485190 \n",
      "[550]\ttrain-rmse:0.484272 \n",
      "[551]\ttrain-rmse:0.482276 \n",
      "[552]\ttrain-rmse:0.480813 \n",
      "[553]\ttrain-rmse:0.478790 \n",
      "[554]\ttrain-rmse:0.476903 \n",
      "[555]\ttrain-rmse:0.475292 \n",
      "[556]\ttrain-rmse:0.474174 \n",
      "[557]\ttrain-rmse:0.473002 \n",
      "[558]\ttrain-rmse:0.472429 \n",
      "[559]\ttrain-rmse:0.471927 \n",
      "[560]\ttrain-rmse:0.470883 \n",
      "[561]\ttrain-rmse:0.468876 \n",
      "[562]\ttrain-rmse:0.467375 \n",
      "[563]\ttrain-rmse:0.466024 \n",
      "[564]\ttrain-rmse:0.464101 \n",
      "[565]\ttrain-rmse:0.461940 \n",
      "[566]\ttrain-rmse:0.460654 \n",
      "[567]\ttrain-rmse:0.460044 \n",
      "[568]\ttrain-rmse:0.458941 \n",
      "[569]\ttrain-rmse:0.458257 \n",
      "[570]\ttrain-rmse:0.456650 \n",
      "[571]\ttrain-rmse:0.455781 \n",
      "[572]\ttrain-rmse:0.454879 \n",
      "[573]\ttrain-rmse:0.453933 \n",
      "[574]\ttrain-rmse:0.452911 \n",
      "[575]\ttrain-rmse:0.451695 \n",
      "[576]\ttrain-rmse:0.450320 \n",
      "[577]\ttrain-rmse:0.447932 \n",
      "[578]\ttrain-rmse:0.446519 \n",
      "[579]\ttrain-rmse:0.445588 \n",
      "[580]\ttrain-rmse:0.444106 \n",
      "[581]\ttrain-rmse:0.443246 \n",
      "[582]\ttrain-rmse:0.442057 \n",
      "[583]\ttrain-rmse:0.440259 \n",
      "[584]\ttrain-rmse:0.438690 \n",
      "[585]\ttrain-rmse:0.437865 \n",
      "[586]\ttrain-rmse:0.435774 \n",
      "[587]\ttrain-rmse:0.434276 \n",
      "[588]\ttrain-rmse:0.433249 \n",
      "[589]\ttrain-rmse:0.431494 \n",
      "[590]\ttrain-rmse:0.430893 \n",
      "[591]\ttrain-rmse:0.429406 \n",
      "[592]\ttrain-rmse:0.428629 \n",
      "[593]\ttrain-rmse:0.427674 \n",
      "[594]\ttrain-rmse:0.426505 \n",
      "[595]\ttrain-rmse:0.425477 \n",
      "[596]\ttrain-rmse:0.423908 \n",
      "[597]\ttrain-rmse:0.422229 \n",
      "[598]\ttrain-rmse:0.421517 \n",
      "[599]\ttrain-rmse:0.420641 \n",
      "[600]\ttrain-rmse:0.418981 \n",
      "[601]\ttrain-rmse:0.418170 \n",
      "[602]\ttrain-rmse:0.416606 \n",
      "[603]\ttrain-rmse:0.414936 \n",
      "[604]\ttrain-rmse:0.413856 \n",
      "[605]\ttrain-rmse:0.412539 \n",
      "[606]\ttrain-rmse:0.411770 \n",
      "[607]\ttrain-rmse:0.411090 \n",
      "[608]\ttrain-rmse:0.409985 \n",
      "[609]\ttrain-rmse:0.409241 \n",
      "[610]\ttrain-rmse:0.408570 \n",
      "[611]\ttrain-rmse:0.407368 \n",
      "[612]\ttrain-rmse:0.406073 \n",
      "[613]\ttrain-rmse:0.405457 \n",
      "[614]\ttrain-rmse:0.404879 \n",
      "[615]\ttrain-rmse:0.403786 \n",
      "[616]\ttrain-rmse:0.402918 \n",
      "[617]\ttrain-rmse:0.401693 \n",
      "[618]\ttrain-rmse:0.400774 \n",
      "[619]\ttrain-rmse:0.400204 \n",
      "[620]\ttrain-rmse:0.399570 \n",
      "[621]\ttrain-rmse:0.398510 \n",
      "[622]\ttrain-rmse:0.397724 \n",
      "[623]\ttrain-rmse:0.397150 \n",
      "[624]\ttrain-rmse:0.396115 \n",
      "[625]\ttrain-rmse:0.394882 \n",
      "[626]\ttrain-rmse:0.394406 \n",
      "[627]\ttrain-rmse:0.392591 \n",
      "[628]\ttrain-rmse:0.391315 \n",
      "[629]\ttrain-rmse:0.389523 \n",
      "[630]\ttrain-rmse:0.388625 \n",
      "[631]\ttrain-rmse:0.387869 \n",
      "[632]\ttrain-rmse:0.386658 \n",
      "[633]\ttrain-rmse:0.386011 \n",
      "[634]\ttrain-rmse:0.384508 \n",
      "[635]\ttrain-rmse:0.383383 \n",
      "[636]\ttrain-rmse:0.382688 \n",
      "[637]\ttrain-rmse:0.382101 \n",
      "[638]\ttrain-rmse:0.381208 \n",
      "[639]\ttrain-rmse:0.380461 \n",
      "[640]\ttrain-rmse:0.379912 \n",
      "[641]\ttrain-rmse:0.379228 \n",
      "[642]\ttrain-rmse:0.378524 \n",
      "[643]\ttrain-rmse:0.377682 \n",
      "[644]\ttrain-rmse:0.376880 \n",
      "[645]\ttrain-rmse:0.375759 \n",
      "[646]\ttrain-rmse:0.374841 \n",
      "[647]\ttrain-rmse:0.374098 \n",
      "[648]\ttrain-rmse:0.372711 \n",
      "[649]\ttrain-rmse:0.372035 \n",
      "[650]\ttrain-rmse:0.370632 \n",
      "[651]\ttrain-rmse:0.369300 \n",
      "[652]\ttrain-rmse:0.368868 \n",
      "[653]\ttrain-rmse:0.367424 \n",
      "[654]\ttrain-rmse:0.366883 \n",
      "[655]\ttrain-rmse:0.365748 \n",
      "[656]\ttrain-rmse:0.364746 \n",
      "[657]\ttrain-rmse:0.364055 \n",
      "[658]\ttrain-rmse:0.363436 \n",
      "[659]\ttrain-rmse:0.363088 \n",
      "[660]\ttrain-rmse:0.361886 \n",
      "[661]\ttrain-rmse:0.361025 \n",
      "[662]\ttrain-rmse:0.359973 \n",
      "[663]\ttrain-rmse:0.358636 \n",
      "[664]\ttrain-rmse:0.357881 \n",
      "[665]\ttrain-rmse:0.357026 \n",
      "[666]\ttrain-rmse:0.356425 \n",
      "[667]\ttrain-rmse:0.355191 \n",
      "[668]\ttrain-rmse:0.354211 \n",
      "[669]\ttrain-rmse:0.353523 \n",
      "[670]\ttrain-rmse:0.352624 \n",
      "[671]\ttrain-rmse:0.351855 \n",
      "[672]\ttrain-rmse:0.350806 \n",
      "[673]\ttrain-rmse:0.349860 \n",
      "[674]\ttrain-rmse:0.348605 \n",
      "[675]\ttrain-rmse:0.347825 \n",
      "[676]\ttrain-rmse:0.347364 \n",
      "[677]\ttrain-rmse:0.346812 \n",
      "[678]\ttrain-rmse:0.346209 \n",
      "[679]\ttrain-rmse:0.345210 \n",
      "[680]\ttrain-rmse:0.344357 \n",
      "[681]\ttrain-rmse:0.343482 \n",
      "[682]\ttrain-rmse:0.342813 \n",
      "[683]\ttrain-rmse:0.342140 \n",
      "[684]\ttrain-rmse:0.341711 \n",
      "[685]\ttrain-rmse:0.340581 \n",
      "[686]\ttrain-rmse:0.339850 \n",
      "[687]\ttrain-rmse:0.338774 \n",
      "[688]\ttrain-rmse:0.337853 \n",
      "[689]\ttrain-rmse:0.337076 \n",
      "[690]\ttrain-rmse:0.335834 \n",
      "[691]\ttrain-rmse:0.334769 \n",
      "[692]\ttrain-rmse:0.333719 \n",
      "[693]\ttrain-rmse:0.333184 \n",
      "[694]\ttrain-rmse:0.332463 \n",
      "[695]\ttrain-rmse:0.331834 \n",
      "[696]\ttrain-rmse:0.331565 \n",
      "[697]\ttrain-rmse:0.330965 \n",
      "[698]\ttrain-rmse:0.330434 \n",
      "[699]\ttrain-rmse:0.329498 \n",
      "[700]\ttrain-rmse:0.328540 \n",
      "[701]\ttrain-rmse:0.327804 \n",
      "[702]\ttrain-rmse:0.326785 \n",
      "[703]\ttrain-rmse:0.326071 \n",
      "[704]\ttrain-rmse:0.325463 \n",
      "[705]\ttrain-rmse:0.324737 \n",
      "[706]\ttrain-rmse:0.324239 \n",
      "[707]\ttrain-rmse:0.323357 \n",
      "[708]\ttrain-rmse:0.322701 \n",
      "[709]\ttrain-rmse:0.322372 \n",
      "[710]\ttrain-rmse:0.321553 \n",
      "[711]\ttrain-rmse:0.320212 \n",
      "[712]\ttrain-rmse:0.319225 \n",
      "[713]\ttrain-rmse:0.318751 \n",
      "[714]\ttrain-rmse:0.317767 \n",
      "[715]\ttrain-rmse:0.317013 \n",
      "[716]\ttrain-rmse:0.316162 \n",
      "[717]\ttrain-rmse:0.315282 \n",
      "[718]\ttrain-rmse:0.314210 \n",
      "[719]\ttrain-rmse:0.313045 \n",
      "[720]\ttrain-rmse:0.312013 \n",
      "[721]\ttrain-rmse:0.311468 \n",
      "[722]\ttrain-rmse:0.310818 \n",
      "[723]\ttrain-rmse:0.309902 \n",
      "[724]\ttrain-rmse:0.309314 \n",
      "[725]\ttrain-rmse:0.308141 \n",
      "[726]\ttrain-rmse:0.307870 \n",
      "[727]\ttrain-rmse:0.307002 \n",
      "[728]\ttrain-rmse:0.306277 \n",
      "[729]\ttrain-rmse:0.305793 \n",
      "[730]\ttrain-rmse:0.305214 \n",
      "[731]\ttrain-rmse:0.304448 \n",
      "[732]\ttrain-rmse:0.303544 \n",
      "[733]\ttrain-rmse:0.302714 \n",
      "[734]\ttrain-rmse:0.302191 \n",
      "[735]\ttrain-rmse:0.301614 \n",
      "[736]\ttrain-rmse:0.301185 \n",
      "[737]\ttrain-rmse:0.300890 \n",
      "[738]\ttrain-rmse:0.300014 \n",
      "[739]\ttrain-rmse:0.299568 \n",
      "[740]\ttrain-rmse:0.298399 \n",
      "[741]\ttrain-rmse:0.297423 \n",
      "[742]\ttrain-rmse:0.296924 \n",
      "[743]\ttrain-rmse:0.296490 \n",
      "[744]\ttrain-rmse:0.296032 \n",
      "[745]\ttrain-rmse:0.295286 \n",
      "[746]\ttrain-rmse:0.294450 \n",
      "[747]\ttrain-rmse:0.293769 \n",
      "[748]\ttrain-rmse:0.292784 \n",
      "[749]\ttrain-rmse:0.291751 \n",
      "[750]\ttrain-rmse:0.291189 \n",
      "[751]\ttrain-rmse:0.290803 \n",
      "[752]\ttrain-rmse:0.290279 \n",
      "[753]\ttrain-rmse:0.289278 \n",
      "[754]\ttrain-rmse:0.288432 \n",
      "[755]\ttrain-rmse:0.287542 \n",
      "[756]\ttrain-rmse:0.286834 \n",
      "[757]\ttrain-rmse:0.286108 \n",
      "[758]\ttrain-rmse:0.285355 \n",
      "[759]\ttrain-rmse:0.284862 \n",
      "[760]\ttrain-rmse:0.283895 \n",
      "[761]\ttrain-rmse:0.283696 \n",
      "[762]\ttrain-rmse:0.282892 \n",
      "[763]\ttrain-rmse:0.281951 \n",
      "[764]\ttrain-rmse:0.281175 \n",
      "[765]\ttrain-rmse:0.280775 \n",
      "[766]\ttrain-rmse:0.280475 \n",
      "[767]\ttrain-rmse:0.279796 \n",
      "[768]\ttrain-rmse:0.279191 \n",
      "[769]\ttrain-rmse:0.278797 \n",
      "[770]\ttrain-rmse:0.278348 \n",
      "[771]\ttrain-rmse:0.278031 \n",
      "[772]\ttrain-rmse:0.277144 \n",
      "[773]\ttrain-rmse:0.276329 \n",
      "[774]\ttrain-rmse:0.275806 \n",
      "[775]\ttrain-rmse:0.275312 \n",
      "[776]\ttrain-rmse:0.274842 \n",
      "[777]\ttrain-rmse:0.274549 \n",
      "[778]\ttrain-rmse:0.273766 \n",
      "[779]\ttrain-rmse:0.273156 \n",
      "[780]\ttrain-rmse:0.272066 \n",
      "[781]\ttrain-rmse:0.271231 \n",
      "[782]\ttrain-rmse:0.270561 \n",
      "[783]\ttrain-rmse:0.270111 \n",
      "[784]\ttrain-rmse:0.269608 \n",
      "[785]\ttrain-rmse:0.269060 \n",
      "[786]\ttrain-rmse:0.268609 \n",
      "[787]\ttrain-rmse:0.268059 \n",
      "[788]\ttrain-rmse:0.267200 \n",
      "[789]\ttrain-rmse:0.266778 \n",
      "[790]\ttrain-rmse:0.266187 \n",
      "[791]\ttrain-rmse:0.265720 \n",
      "[792]\ttrain-rmse:0.265158 \n",
      "[793]\ttrain-rmse:0.264217 \n",
      "[794]\ttrain-rmse:0.263522 \n",
      "[795]\ttrain-rmse:0.262649 \n",
      "[796]\ttrain-rmse:0.262202 \n",
      "[797]\ttrain-rmse:0.261534 \n",
      "[798]\ttrain-rmse:0.260651 \n",
      "[799]\ttrain-rmse:0.259920 \n",
      "[800]\ttrain-rmse:0.259464 \n",
      "[801]\ttrain-rmse:0.259080 \n",
      "[802]\ttrain-rmse:0.258385 \n",
      "[803]\ttrain-rmse:0.257429 \n",
      "[804]\ttrain-rmse:0.257035 \n",
      "[805]\ttrain-rmse:0.256534 \n",
      "[806]\ttrain-rmse:0.255982 \n",
      "[807]\ttrain-rmse:0.254869 \n",
      "[808]\ttrain-rmse:0.254372 \n",
      "[809]\ttrain-rmse:0.253568 \n",
      "[810]\ttrain-rmse:0.252995 \n",
      "[811]\ttrain-rmse:0.252101 \n",
      "[812]\ttrain-rmse:0.251819 \n",
      "[813]\ttrain-rmse:0.251306 \n",
      "[814]\ttrain-rmse:0.250839 \n",
      "[815]\ttrain-rmse:0.250248 \n",
      "[816]\ttrain-rmse:0.249672 \n",
      "[817]\ttrain-rmse:0.249071 \n",
      "[818]\ttrain-rmse:0.248707 \n",
      "[819]\ttrain-rmse:0.248204 \n",
      "[820]\ttrain-rmse:0.247973 \n",
      "[821]\ttrain-rmse:0.247531 \n",
      "[822]\ttrain-rmse:0.247100 \n",
      "[823]\ttrain-rmse:0.246308 \n",
      "[824]\ttrain-rmse:0.245698 \n",
      "[825]\ttrain-rmse:0.244961 \n",
      "[826]\ttrain-rmse:0.244299 \n",
      "[827]\ttrain-rmse:0.243665 \n",
      "[828]\ttrain-rmse:0.242885 \n",
      "[829]\ttrain-rmse:0.242030 \n",
      "[830]\ttrain-rmse:0.241595 \n",
      "[831]\ttrain-rmse:0.241372 \n",
      "[832]\ttrain-rmse:0.240659 \n",
      "[833]\ttrain-rmse:0.240330 \n",
      "[834]\ttrain-rmse:0.239783 \n",
      "[835]\ttrain-rmse:0.239080 \n",
      "[836]\ttrain-rmse:0.238204 \n",
      "[837]\ttrain-rmse:0.237294 \n",
      "[838]\ttrain-rmse:0.236389 \n",
      "[839]\ttrain-rmse:0.235925 \n",
      "[840]\ttrain-rmse:0.235671 \n",
      "[841]\ttrain-rmse:0.235391 \n",
      "[842]\ttrain-rmse:0.234725 \n",
      "[843]\ttrain-rmse:0.234097 \n",
      "[844]\ttrain-rmse:0.233525 \n",
      "[845]\ttrain-rmse:0.233146 \n",
      "[846]\ttrain-rmse:0.232121 \n",
      "[847]\ttrain-rmse:0.231560 \n",
      "[848]\ttrain-rmse:0.231151 \n",
      "[849]\ttrain-rmse:0.230855 \n",
      "[850]\ttrain-rmse:0.230296 \n",
      "[851]\ttrain-rmse:0.229715 \n",
      "[852]\ttrain-rmse:0.228997 \n",
      "[853]\ttrain-rmse:0.228316 \n",
      "[854]\ttrain-rmse:0.227804 \n",
      "[855]\ttrain-rmse:0.227215 \n",
      "[856]\ttrain-rmse:0.226474 \n",
      "[857]\ttrain-rmse:0.225974 \n",
      "[858]\ttrain-rmse:0.225167 \n",
      "[859]\ttrain-rmse:0.224919 \n",
      "[860]\ttrain-rmse:0.224220 \n",
      "[861]\ttrain-rmse:0.223773 \n",
      "[862]\ttrain-rmse:0.222691 \n",
      "[863]\ttrain-rmse:0.222595 \n",
      "[864]\ttrain-rmse:0.222209 \n",
      "[865]\ttrain-rmse:0.221389 \n",
      "[866]\ttrain-rmse:0.220880 \n",
      "[867]\ttrain-rmse:0.220254 \n",
      "[868]\ttrain-rmse:0.220005 \n",
      "[869]\ttrain-rmse:0.219567 \n",
      "[870]\ttrain-rmse:0.218973 \n",
      "[871]\ttrain-rmse:0.218632 \n",
      "[872]\ttrain-rmse:0.217877 \n",
      "[873]\ttrain-rmse:0.217617 \n",
      "[874]\ttrain-rmse:0.217322 \n",
      "[875]\ttrain-rmse:0.217065 \n",
      "[876]\ttrain-rmse:0.216382 \n",
      "[877]\ttrain-rmse:0.216158 \n",
      "[878]\ttrain-rmse:0.215827 \n",
      "[879]\ttrain-rmse:0.215222 \n",
      "[880]\ttrain-rmse:0.214752 \n",
      "[881]\ttrain-rmse:0.213845 \n",
      "[882]\ttrain-rmse:0.213507 \n",
      "[883]\ttrain-rmse:0.213217 \n",
      "[884]\ttrain-rmse:0.212754 \n",
      "[885]\ttrain-rmse:0.212151 \n",
      "[886]\ttrain-rmse:0.211865 \n",
      "[887]\ttrain-rmse:0.211288 \n",
      "[888]\ttrain-rmse:0.210852 \n",
      "[889]\ttrain-rmse:0.210540 \n",
      "[890]\ttrain-rmse:0.210091 \n",
      "[891]\ttrain-rmse:0.209702 \n",
      "[892]\ttrain-rmse:0.209212 \n",
      "[893]\ttrain-rmse:0.208984 \n",
      "[894]\ttrain-rmse:0.208356 \n",
      "[895]\ttrain-rmse:0.207640 \n",
      "[896]\ttrain-rmse:0.207370 \n",
      "[897]\ttrain-rmse:0.207025 \n",
      "[898]\ttrain-rmse:0.206520 \n",
      "[899]\ttrain-rmse:0.206051 \n",
      "[900]\ttrain-rmse:0.205496 \n",
      "[901]\ttrain-rmse:0.204972 \n",
      "[902]\ttrain-rmse:0.204403 \n",
      "[903]\ttrain-rmse:0.203955 \n",
      "[904]\ttrain-rmse:0.203615 \n",
      "[905]\ttrain-rmse:0.202720 \n",
      "[906]\ttrain-rmse:0.202089 \n",
      "[907]\ttrain-rmse:0.201368 \n",
      "[908]\ttrain-rmse:0.201001 \n",
      "[909]\ttrain-rmse:0.200339 \n",
      "[910]\ttrain-rmse:0.200036 \n",
      "[911]\ttrain-rmse:0.199675 \n",
      "[912]\ttrain-rmse:0.198935 \n",
      "[913]\ttrain-rmse:0.198326 \n",
      "[914]\ttrain-rmse:0.197947 \n",
      "[915]\ttrain-rmse:0.197246 \n",
      "[916]\ttrain-rmse:0.197087 \n",
      "[917]\ttrain-rmse:0.196745 \n",
      "[918]\ttrain-rmse:0.196114 \n",
      "[919]\ttrain-rmse:0.195785 \n",
      "[920]\ttrain-rmse:0.195198 \n",
      "[921]\ttrain-rmse:0.194901 \n",
      "[922]\ttrain-rmse:0.194415 \n",
      "[923]\ttrain-rmse:0.194327 \n",
      "[924]\ttrain-rmse:0.193682 \n",
      "[925]\ttrain-rmse:0.193373 \n",
      "[926]\ttrain-rmse:0.193165 \n",
      "[927]\ttrain-rmse:0.192939 \n",
      "[928]\ttrain-rmse:0.192423 \n",
      "[929]\ttrain-rmse:0.192149 \n",
      "[930]\ttrain-rmse:0.192011 \n",
      "[931]\ttrain-rmse:0.191839 \n",
      "[932]\ttrain-rmse:0.191487 \n",
      "[933]\ttrain-rmse:0.190741 \n",
      "[934]\ttrain-rmse:0.190382 \n",
      "[935]\ttrain-rmse:0.190048 \n",
      "[936]\ttrain-rmse:0.189420 \n",
      "[937]\ttrain-rmse:0.189104 \n",
      "[938]\ttrain-rmse:0.188880 \n",
      "[939]\ttrain-rmse:0.188643 \n",
      "[940]\ttrain-rmse:0.188085 \n",
      "[941]\ttrain-rmse:0.187683 \n",
      "[942]\ttrain-rmse:0.187300 \n",
      "[943]\ttrain-rmse:0.186913 \n",
      "[944]\ttrain-rmse:0.186325 \n",
      "[945]\ttrain-rmse:0.186112 \n",
      "[946]\ttrain-rmse:0.185772 \n",
      "[947]\ttrain-rmse:0.185331 \n",
      "[948]\ttrain-rmse:0.185168 \n",
      "[949]\ttrain-rmse:0.184759 \n",
      "[950]\ttrain-rmse:0.184594 \n",
      "[951]\ttrain-rmse:0.184166 \n",
      "[952]\ttrain-rmse:0.183661 \n",
      "[953]\ttrain-rmse:0.183477 \n",
      "[954]\ttrain-rmse:0.183043 \n",
      "[955]\ttrain-rmse:0.182981 \n",
      "[956]\ttrain-rmse:0.182460 \n",
      "[957]\ttrain-rmse:0.182074 \n",
      "[958]\ttrain-rmse:0.181683 \n",
      "[959]\ttrain-rmse:0.181468 \n",
      "[960]\ttrain-rmse:0.181082 \n",
      "[961]\ttrain-rmse:0.180670 \n",
      "[962]\ttrain-rmse:0.180301 \n",
      "[963]\ttrain-rmse:0.179920 \n",
      "[964]\ttrain-rmse:0.179655 \n",
      "[965]\ttrain-rmse:0.179252 \n",
      "[966]\ttrain-rmse:0.178939 \n",
      "[967]\ttrain-rmse:0.178515 \n",
      "[968]\ttrain-rmse:0.178250 \n",
      "[969]\ttrain-rmse:0.178036 \n",
      "[970]\ttrain-rmse:0.177727 \n",
      "[971]\ttrain-rmse:0.177195 \n",
      "[972]\ttrain-rmse:0.176889 \n",
      "[973]\ttrain-rmse:0.176589 \n",
      "[974]\ttrain-rmse:0.176391 \n",
      "[975]\ttrain-rmse:0.175863 \n",
      "[976]\ttrain-rmse:0.175560 \n",
      "[977]\ttrain-rmse:0.175154 \n",
      "[978]\ttrain-rmse:0.174831 \n",
      "[979]\ttrain-rmse:0.174517 \n",
      "[980]\ttrain-rmse:0.174258 \n",
      "[981]\ttrain-rmse:0.173859 \n",
      "[982]\ttrain-rmse:0.173559 \n",
      "[983]\ttrain-rmse:0.173524 \n",
      "[984]\ttrain-rmse:0.173487 \n",
      "[985]\ttrain-rmse:0.173234 \n",
      "[986]\ttrain-rmse:0.172971 \n",
      "[987]\ttrain-rmse:0.172728 \n",
      "[988]\ttrain-rmse:0.172517 \n",
      "[989]\ttrain-rmse:0.172324 \n",
      "[990]\ttrain-rmse:0.172078 \n",
      "[991]\ttrain-rmse:0.171662 \n",
      "[992]\ttrain-rmse:0.171303 \n",
      "[993]\ttrain-rmse:0.170637 \n",
      "[994]\ttrain-rmse:0.170227 \n",
      "[995]\ttrain-rmse:0.169912 \n",
      "[996]\ttrain-rmse:0.169614 \n",
      "[997]\ttrain-rmse:0.169614 \n",
      "[998]\ttrain-rmse:0.169260 \n",
      "[999]\ttrain-rmse:0.168875 \n",
      "[1000]\ttrain-rmse:0.168532 \n"
     ]
    }
   ],
   "source": [
    "bst <- xgboost(data = as.matrix(predictors), label = output,\n",
    "               nrounds = xgb_tune5$bestTune$nrounds,\n",
    "               eta = xgb_tune5$bestTune$eta,\n",
    "               max_depth = xgb_tune5$bestTune$max_depth,\n",
    "               gamma = xgb_tune5$bestTune$gamma,\n",
    "               colsample_bytree = xgb_tune5$bestTune$colsample_bytree,\n",
    "               min_child_weight = xgb_tune5$bestTune$min_child_weight,\n",
    "               subsample = xgb_tune5$bestTune$subsample)"
   ]
  },
  {
   "cell_type": "code",
   "execution_count": 26,
   "metadata": {},
   "outputs": [
    {
     "data": {
      "text/html": [
       "<table>\n",
       "<thead><tr><th scope=col>Feature</th><th scope=col>Gain</th><th scope=col>Cover</th><th scope=col>Frequency</th></tr></thead>\n",
       "<tbody>\n",
       "\t<tr><td>Reactions      </td><td>0.40179789     </td><td>0.08243852     </td><td>0.05893609     </td></tr>\n",
       "\t<tr><td>Composure      </td><td>0.08018249     </td><td>0.05067940     </td><td>0.04171450     </td></tr>\n",
       "\t<tr><td>Club_Kit       </td><td>0.07326103     </td><td>0.02419056     </td><td>0.02372752     </td></tr>\n",
       "\t<tr><td>Short_Pass     </td><td>0.05268767     </td><td>0.02761248     </td><td>0.02755454     </td></tr>\n",
       "\t<tr><td>Standing_Tackle</td><td>0.03390763     </td><td>0.04067738     </td><td>0.03425182     </td></tr>\n",
       "\t<tr><td>GK_Positioning </td><td>0.02619463     </td><td>0.03893983     </td><td>0.03539992     </td></tr>\n",
       "</tbody>\n",
       "</table>\n"
      ],
      "text/latex": [
       "\\begin{tabular}{r|llll}\n",
       " Feature & Gain & Cover & Frequency\\\\\n",
       "\\hline\n",
       "\t Reactions       & 0.40179789      & 0.08243852      & 0.05893609     \\\\\n",
       "\t Composure       & 0.08018249      & 0.05067940      & 0.04171450     \\\\\n",
       "\t Club\\_Kit        & 0.07326103        & 0.02419056        & 0.02372752       \\\\\n",
       "\t Short\\_Pass      & 0.05268767        & 0.02761248        & 0.02755454       \\\\\n",
       "\t Standing\\_Tackle & 0.03390763        & 0.04067738        & 0.03425182       \\\\\n",
       "\t GK\\_Positioning  & 0.02619463        & 0.03893983        & 0.03539992       \\\\\n",
       "\\end{tabular}\n"
      ],
      "text/markdown": [
       "\n",
       "| Feature | Gain | Cover | Frequency |\n",
       "|---|---|---|---|\n",
       "| Reactions       | 0.40179789      | 0.08243852      | 0.05893609      |\n",
       "| Composure       | 0.08018249      | 0.05067940      | 0.04171450      |\n",
       "| Club_Kit        | 0.07326103      | 0.02419056      | 0.02372752      |\n",
       "| Short_Pass      | 0.05268767      | 0.02761248      | 0.02755454      |\n",
       "| Standing_Tackle | 0.03390763      | 0.04067738      | 0.03425182      |\n",
       "| GK_Positioning  | 0.02619463      | 0.03893983      | 0.03539992      |\n",
       "\n"
      ],
      "text/plain": [
       "  Feature         Gain       Cover      Frequency \n",
       "1 Reactions       0.40179789 0.08243852 0.05893609\n",
       "2 Composure       0.08018249 0.05067940 0.04171450\n",
       "3 Club_Kit        0.07326103 0.02419056 0.02372752\n",
       "4 Short_Pass      0.05268767 0.02761248 0.02755454\n",
       "5 Standing_Tackle 0.03390763 0.04067738 0.03425182\n",
       "6 GK_Positioning  0.02619463 0.03893983 0.03539992"
      ]
     },
     "metadata": {},
     "output_type": "display_data"
    }
   ],
   "source": [
    "head(xgb.importance(model = bst))"
   ]
  },
  {
   "cell_type": "markdown",
   "metadata": {},
   "source": [
    "Success, this thorough method cut the error by almost 30%\n"
   ]
  },
  {
   "cell_type": "markdown",
   "metadata": {},
   "source": [
    "------------<>------------"
   ]
  }
 ],
 "metadata": {
  "kernelspec": {
   "display_name": "R",
   "language": "R",
   "name": "ir"
  },
  "language_info": {
   "codemirror_mode": "r",
   "file_extension": ".r",
   "mimetype": "text/x-r-source",
   "name": "R",
   "pygments_lexer": "r",
   "version": "3.6.1"
  }
 },
 "nbformat": 4,
 "nbformat_minor": 1
}
