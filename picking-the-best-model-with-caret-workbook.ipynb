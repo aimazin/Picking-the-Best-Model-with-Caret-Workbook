{
 "cells": [
  {
   "cell_type": "markdown",
   "metadata": {
    "_cell_guid": "51c0fb5b-8bb3-4afa-bf97-430dd32f59eb",
    "_uuid": "db29a2ba5ef44f0b6f3019cef7a6633684bd2d98"
   },
   "source": [
    "# Introduction\n",
    "\n",
    "This is the companion workbook to [Picking the Best Model with Caret](https://www.kaggle.com/rtatman/picking-the-best-model-with-caret). Read through the lesson and then come here to complete the exercises so all your work is in one central place.\n",
    "\n",
    "For this workbook we'll be working with a dataset of FIFA (football/soccer) players from EASports' FIFA video game series. You'll be predicting what a player's rank will be given their other attributes.\n",
    "____\n",
    "\n",
    "**Remember**: If you want to share this notebook you need to make it public so that other people can see it. You can do that by forking this notebook and then selecting \"public\" on the drop-down menu to the left of the \"Publish\" button.\n",
    "____\n",
    "# Table of Contents: \n",
    "\n",
    "* [Setting up our environment](#Setting-up-our-environment)\n",
    "* [Clean our data](#Clean-our-data)\n",
    "* [Split data into testing & training](#Split-data-into-testing-&-training)\n",
    "* [Fit a baseline model](#Fit-a-baseline-model)\n",
    "* [Tune a model using caret](#Tune-a-model-using-caret)\n",
    "* [Compare our models](#Compare-our-models)"
   ]
  },
  {
   "cell_type": "markdown",
   "metadata": {
    "_cell_guid": "7abef454-9168-4893-ab7e-988f3d531692",
    "_uuid": "9c666821d52e3fefa6c4b117ed942aa13f2853cd"
   },
   "source": [
    "# Setting up our environment\n",
    "___\n",
    "\n",
    "Here I've set up the environment for you. Remember to run this cell first or the other cells won't work! :)"
   ]
  },
  {
   "cell_type": "code",
   "execution_count": 13,
   "metadata": {},
   "outputs": [
    {
     "name": "stderr",
     "output_type": "stream",
     "text": [
      "Warning message:\n",
      "\"package 'tidyverse' is in use and will not be installed\"Warning message:\n",
      "\"package 'caret' is in use and will not be installed\"Warning message:\n",
      "\"package 'randomForest' is in use and will not be installed\"Warning message:\n",
      "\"package 'Metrics' is in use and will not be installed\"Warning message:\n",
      "\"package 'dplyr' is in use and will not be installed\""
     ]
    },
    {
     "name": "stdout",
     "output_type": "stream",
     "text": [
      "package 'xgboost' successfully unpacked and MD5 sums checked\n",
      "\n",
      "The downloaded binary packages are in\n",
      "\tC:\\Users\\aimaz\\AppData\\Local\\Temp\\RtmpkVPClK\\downloaded_packages\n"
     ]
    }
   ],
   "source": [
    "install.packages('tidyverse')\n",
    "install.packages('caret')\n",
    "install.packages('randomForest')\n",
    "install.packages('Metrics')\n",
    "install.packages(\"dplyr\")  \n",
    "install.packages('xgboost')"
   ]
  },
  {
   "cell_type": "code",
   "execution_count": 14,
   "metadata": {
    "_cell_guid": "c56cb8e1-1a06-4f31-a408-54a40128339c",
    "_kg_hide-output": true,
    "_uuid": "248ef4550532c83ac2fbf788f95c819fb5b2ab67"
   },
   "outputs": [
    {
     "name": "stderr",
     "output_type": "stream",
     "text": [
      "Warning message:\n",
      "\"package 'xgboost' was built under R version 3.6.3\"\n",
      "Attaching package: 'xgboost'\n",
      "\n",
      "The following object is masked from 'package:dplyr':\n",
      "\n",
      "    slice\n",
      "\n",
      "Parsed with column specification:\n",
      "cols(\n",
      "  .default = col_double(),\n",
      "  Name = col_character(),\n",
      "  Nationality = col_character(),\n",
      "  National_Position = col_character(),\n",
      "  Club = col_character(),\n",
      "  Club_Position = col_character(),\n",
      "  Club_Joining = col_character(),\n",
      "  Height = col_character(),\n",
      "  Weight = col_character(),\n",
      "  Preffered_Foot = col_character(),\n",
      "  Birth_Date = col_character(),\n",
      "  Preffered_Position = col_character(),\n",
      "  Work_Rate = col_character()\n",
      ")\n",
      "See spec(...) for full column specifications.\n"
     ]
    }
   ],
   "source": [
    "# libraries we'll use\n",
    "library(tidyverse) # utility functions\n",
    "library(caret) # hyperparameter tuning\n",
    "library(randomForest)\n",
    "library(Metrics)#useful metrics\n",
    "library(xgboost)\n",
    "\n",
    "# read in data\n",
    "player_statistics <- read_csv(\"FullData.csv\")"
   ]
  },
  {
   "cell_type": "markdown",
   "metadata": {
    "_cell_guid": "4f6a0137-2b1f-4b50-864c-5ca9e80528fd",
    "_uuid": "fe1fbe1d60f086d11c4731506f0ca59e1dd264fc"
   },
   "source": [
    "# Clean our data\n",
    "___\n",
    "\n",
    "This datset is pretty clean. All you'll need to do is remove rows with na's and select just the numeric columns."
   ]
  },
  {
   "cell_type": "code",
   "execution_count": 3,
   "metadata": {
    "_cell_guid": "54699973-cb5e-4783-87e0-219df12398c8",
    "_uuid": "87429837c7f630f025b16ca6b752c9e17cf0cca1"
   },
   "outputs": [],
   "source": [
    "# omit na's and remove non-numeric columns\n",
    "player_statistics <- player_statistics %>%\n",
    "na.omit() %>%\n",
    "select_if(is.numeric)\n"
   ]
  },
  {
   "cell_type": "markdown",
   "metadata": {
    "_cell_guid": "d140d501-1a36-476b-8af6-ce28d836c66a",
    "_uuid": "9d9d6662678ba0e8b4ec772a18e573dc3d60f353"
   },
   "source": [
    "Check your dataframe out to make sure it looks reasonable. "
   ]
  },
  {
   "cell_type": "code",
   "execution_count": 4,
   "metadata": {
    "_cell_guid": "f2d6babc-9fa3-423e-aa10-c269483bf422",
    "_uuid": "7c62a7743fcecfa23ace67f794c7905bf21ff6a3"
   },
   "outputs": [
    {
     "name": "stdout",
     "output_type": "stream",
     "text": [
      "tibble [1,075 x 41] (S3: tbl_df/tbl/data.frame)\n",
      " $ National_Kit      : num [1:1075] 7 10 10 9 1 1 9 11 1 17 ...\n",
      " $ Club_Kit          : num [1:1075] 7 10 11 9 1 1 9 11 13 17 ...\n",
      " $ Contract_Expiry   : num [1:1075] 2021 2018 2021 2021 2021 ...\n",
      " $ Rating            : num [1:1075] 94 93 92 92 92 90 90 90 89 89 ...\n",
      " $ Age               : num [1:1075] 32 29 25 30 31 26 28 27 24 28 ...\n",
      " $ Weak_foot         : num [1:1075] 4 4 5 4 4 3 4 3 3 4 ...\n",
      " $ Skill_Moves       : num [1:1075] 5 4 5 4 1 1 3 4 1 2 ...\n",
      " $ Ball_Control      : num [1:1075] 93 95 95 91 48 31 87 88 23 72 ...\n",
      " $ Dribbling         : num [1:1075] 92 97 96 86 30 13 85 89 13 67 ...\n",
      " $ Marking           : num [1:1075] 22 13 21 30 10 13 25 51 11 90 ...\n",
      " $ Sliding_Tackle    : num [1:1075] 23 26 33 38 11 13 19 52 16 91 ...\n",
      " $ Standing_Tackle   : num [1:1075] 31 28 24 45 10 21 42 55 18 92 ...\n",
      " $ Aggression        : num [1:1075] 63 48 56 78 29 38 80 65 23 82 ...\n",
      " $ Reactions         : num [1:1075] 96 95 88 93 85 88 88 87 81 84 ...\n",
      " $ Attacking_Position: num [1:1075] 94 93 90 92 12 12 89 86 13 47 ...\n",
      " $ Interceptions     : num [1:1075] 29 22 36 41 30 30 39 59 15 84 ...\n",
      " $ Vision            : num [1:1075] 85 90 80 84 70 68 78 79 44 76 ...\n",
      " $ Composure         : num [1:1075] 86 94 80 83 70 60 87 85 52 86 ...\n",
      " $ Crossing          : num [1:1075] 84 77 75 77 15 17 62 87 14 69 ...\n",
      " $ Short_Pass        : num [1:1075] 83 88 81 83 55 31 83 86 32 75 ...\n",
      " $ Long_Pass         : num [1:1075] 77 87 75 64 59 32 65 80 31 80 ...\n",
      " $ Acceleration      : num [1:1075] 91 92 93 88 58 56 79 93 46 74 ...\n",
      " $ Speed             : num [1:1075] 92 87 90 77 61 56 82 95 52 81 ...\n",
      " $ Stamina           : num [1:1075] 92 74 79 89 44 25 79 78 38 75 ...\n",
      " $ Strength          : num [1:1075] 80 59 49 76 83 64 84 80 70 91 ...\n",
      " $ Balance           : num [1:1075] 63 95 82 60 35 43 79 65 45 54 ...\n",
      " $ Agility           : num [1:1075] 90 90 96 86 52 57 78 77 61 58 ...\n",
      " $ Jumping           : num [1:1075] 95 68 61 69 78 67 84 85 68 75 ...\n",
      " $ Heading           : num [1:1075] 85 71 62 77 25 21 85 86 13 86 ...\n",
      " $ Shot_Power        : num [1:1075] 92 85 78 87 25 31 86 91 36 79 ...\n",
      " $ Finishing         : num [1:1075] 93 95 89 94 13 13 91 87 14 34 ...\n",
      " $ Long_Shots        : num [1:1075] 90 88 77 86 16 12 82 90 17 58 ...\n",
      " $ Curve             : num [1:1075] 81 89 79 86 14 21 77 86 19 56 ...\n",
      " $ Freekick_Accuracy : num [1:1075] 76 90 84 84 11 19 76 85 11 31 ...\n",
      " $ Penalties         : num [1:1075] 85 74 81 85 47 40 81 76 27 46 ...\n",
      " $ Volleys           : num [1:1075] 88 85 83 88 11 13 86 76 12 53 ...\n",
      " $ GK_Positioning    : num [1:1075] 14 14 15 33 91 86 8 5 86 6 ...\n",
      " $ GK_Diving         : num [1:1075] 7 6 9 27 89 88 15 15 84 7 ...\n",
      " $ GK_Kicking        : num [1:1075] 15 15 15 31 95 87 12 11 69 15 ...\n",
      " $ GK_Handling       : num [1:1075] 11 11 9 25 90 85 6 15 91 12 ...\n",
      " $ GK_Reflexes       : num [1:1075] 11 8 11 37 89 90 10 6 89 5 ...\n",
      " - attr(*, \"na.action\")= 'omit' Named int [1:16513] 9 13 19 22 29 31 36 39 41 47 ...\n",
      "  ..- attr(*, \"names\")= chr [1:16513] \"9\" \"13\" \"19\" \"22\" ...\n"
     ]
    }
   ],
   "source": [
    "# check out your data frame using the str() function\n",
    "str(player_statistics)\n"
   ]
  },
  {
   "cell_type": "markdown",
   "metadata": {
    "_cell_guid": "b3fca0d7-58f8-4ef8-a9d5-412c5db2ddcd",
    "_uuid": "5d80e438ea11133ef07bbe63976a739df7dd251a"
   },
   "source": [
    "# Split data into testing & training\n",
    "____\n",
    "\n",
    "Split your data so that 80% of your data in the training set and 20% is in the testing set. "
   ]
  },
  {
   "cell_type": "code",
   "execution_count": 5,
   "metadata": {
    "_cell_guid": "ca9da8e9-bac0-4e1b-8fc5-db89697781b1",
    "_uuid": "f521cc8aa06518852200bfec943d6d89bcfc40ba"
   },
   "outputs": [
    {
     "name": "stderr",
     "output_type": "stream",
     "text": [
      "Warning message:\n",
      "\"The `i` argument of ``[`()` can't be a matrix as of tibble 3.0.0.\n",
      "Convert to a vector.\n",
      "This warning is displayed once every 8 hours.\n",
      "Call `lifecycle::last_warnings()` to see where this warning was generated.\""
     ]
    }
   ],
   "source": [
    "# set a random seed\n",
    "set.seed(1234)\n",
    "\n",
    "# 80/20 train/test split\n",
    "# train/test split\n",
    "training_indexs <- createDataPartition(player_statistics$Rating, p = .2, list = F)\n",
    "training <- player_statistics[training_indexs, ]\n",
    "testing  <- player_statistics[-training_indexs, ]\n"
   ]
  },
  {
   "cell_type": "markdown",
   "metadata": {
    "_cell_guid": "2021e71d-649b-4fe6-a0ae-f52094418871",
    "_uuid": "8aafb5fbadad3d4721a72907f6279a361a944a19"
   },
   "source": [
    "Convert your predictors into a matrix & get a vector of your target variables."
   ]
  },
  {
   "cell_type": "code",
   "execution_count": 6,
   "metadata": {
    "_cell_guid": "32c303c7-7871-4a82-982d-06bca6a72d6b",
    "_uuid": "601f80b3f8c9794a2b260a94e47d09fd7a65e168"
   },
   "outputs": [],
   "source": [
    "# get a matrix of predictors and a vector of our target variable\n",
    "predictors <- training %>% select(-Rating) %>% as.matrix()\n",
    "output <- training$Rating\n",
    "\n"
   ]
  },
  {
   "cell_type": "markdown",
   "metadata": {
    "_cell_guid": "0e6f457f-25b7-45de-9908-cb3acd18b39b",
    "_uuid": "17f8253a5ac07cf32180479ddc57f60d23e3f238"
   },
   "source": [
    "# Fit a baseline model\n",
    "____\n",
    "\n",
    "Fit a baseline model using randomForest. I'd recommend setting \"ntree\" to 25.\n",
    "\n",
    "> **How can I figure out what a good ntree is?** You can check the output of a random tree model as it adds more trees by setting the argument do.trace to TRUE. It will print out the the mean standard error and what percent of the variance your model doesn't explain for each number of trees. You can then pick a ntree that is near the \"elbow\", the point at which adding additional another three stops dramatically improving your model's fit. \n",
    "\n",
    "Once you've trained a model, you can examine it by calling the varaible you assinged it to. (So if you called your model \"base_model\", you can look at your model by running a line that's just \"base_model\".)"
   ]
  },
  {
   "cell_type": "code",
   "execution_count": 7,
   "metadata": {
    "_cell_guid": "58a62a8b-b88a-4d87-a4d5-9620bbf46746",
    "_uuid": "da9b94b01008b3ce428d756ef92c2a570b45376d"
   },
   "outputs": [
    {
     "data": {
      "text/plain": [
       "\n",
       "Call:\n",
       " randomForest(formula = Rating ~ ., data = training, ntree = 50) \n",
       "               Type of random forest: regression\n",
       "                     Number of trees: 50\n",
       "No. of variables tried at each split: 13\n",
       "\n",
       "          Mean of squared residuals: 5.825615\n",
       "                    % Var explained: 88.38"
      ]
     },
     "metadata": {},
     "output_type": "display_data"
    }
   ],
   "source": [
    "set.seed(2)\n",
    "# fit a model\n",
    "base_model <- randomForest(Rating~.,data=training,\n",
    "                      ntree = 50) # number of trees\n",
    "\n",
    "# examine your model\n",
    "base_model\n"
   ]
  },
  {
   "cell_type": "markdown",
   "metadata": {
    "_cell_guid": "e8877878-12fa-407c-893b-53c6864d87ee",
    "_uuid": "6ce38a7d8d77af6ddda36dcecba4322e663e63df"
   },
   "source": [
    "Finally, go ahead and calcuate the rmse (root mean squared error) for your base model on your held-out test data."
   ]
  },
  {
   "cell_type": "code",
   "execution_count": 8,
   "metadata": {
    "_cell_guid": "e4c492cb-94be-4eca-91d4-fdf74f6a74c4",
    "_uuid": "79e7a5c75bce5c2de7c517ebcb289941db6a1840"
   },
   "outputs": [
    {
     "data": {
      "text/html": [
       "2.3240562721121"
      ],
      "text/latex": [
       "2.3240562721121"
      ],
      "text/markdown": [
       "2.3240562721121"
      ],
      "text/plain": [
       "[1] 2.324056"
      ]
     },
     "metadata": {},
     "output_type": "display_data"
    }
   ],
   "source": [
    "# find the rmse on our test data\n",
    "rmse(predict(base_model, testing), testing$Rating)\n"
   ]
  },
  {
   "cell_type": "markdown",
   "metadata": {
    "_cell_guid": "0e6ad4fd-17cc-4110-a5f1-041ad780ee86",
    "_uuid": "f061dcb821b45292df8b27e9c45bdf7e0a85b926"
   },
   "source": [
    "# Tune a model using caret\n",
    "____\n",
    "\n",
    "Now that you have a base model to compare it with, try tuning the model using the \"train\" function from the caret package. You can examine your model by printing the variable you assigned your model to using the print() function. "
   ]
  },
  {
   "cell_type": "code",
   "execution_count": 9,
   "metadata": {
    "_cell_guid": "96d9b37c-7289-4e56-8e05-ad3e6864a47f",
    "_uuid": "f983e1854dc6cf2cd73330133643e71c967ddc9a"
   },
   "outputs": [
    {
     "name": "stdout",
     "output_type": "stream",
     "text": [
      "Random Forest \n",
      "\n",
      "216 samples\n",
      " 40 predictor\n",
      "\n",
      "No pre-processing\n",
      "Resampling: Cross-Validated (10 fold, repeated 3 times) \n",
      "Summary of sample sizes: 194, 194, 194, 195, 196, 194, ... \n",
      "Resampling results across tuning parameters:\n",
      "\n",
      "  mtry  RMSE      Rsquared   MAE     \n",
      "  1     3.533032  0.8710670  2.639312\n",
      "  2     2.967221  0.8996644  2.208284\n",
      "  3     2.681095  0.9151690  1.991042\n",
      "  4     2.587065  0.9137412  1.919930\n",
      "  5     2.550440  0.9140494  1.893728\n",
      "  6     2.486123  0.9124329  1.873312\n",
      "  7     2.445603  0.9137686  1.813505\n",
      "  8     2.398602  0.9156664  1.772604\n",
      "  9     2.427054  0.9117288  1.823713\n",
      "\n",
      "RMSE was used to select the optimal model using the smallest value.\n",
      "The final value used for the model was mtry = 8.\n"
     ]
    }
   ],
   "source": [
    "\n",
    "control <- trainControl(method=\"repeatedcv\", number=10, repeats=3, search=\"grid\")\n",
    "\n",
    "tunegrid <- expand.grid(.mtry=c(1:9))\n",
    "\n",
    "\n",
    "set.seed(2)\n",
    "# tune a model\n",
    "tuned_model <- train(Rating~.,data=training,\n",
    "                     ntree=50,\n",
    "                     method = \"rf\",\n",
    "                     tuneGrid=tunegrid, trControl=control)\n",
    "                     \n",
    "\n",
    "# examine your tuned model\n",
    "print(tuned_model)"
   ]
  },
  {
   "cell_type": "markdown",
   "metadata": {
    "_cell_guid": "d4f746b4-11ab-407a-a9a3-b8c7bcc4afb8",
    "_uuid": "29897c2dc2ae85ba868796927f57c5d9a909d8b7"
   },
   "source": [
    "You can also check out the error over the different mtry values that caret tried by passing the model to the ggplot function. "
   ]
  },
  {
   "cell_type": "code",
   "execution_count": 10,
   "metadata": {
    "_cell_guid": "fdfe5fba-0cff-4bf7-b21e-2ed3e024bb8b",
    "_uuid": "7ced8a840f89a0f49e811c5c6ad3ed55b9baef14"
   },
   "outputs": [
    {
     "data": {
      "image/png": "[encoded data removed]",
      "text/plain": [
       "plot without title"
      ]
     },
     "metadata": {},
     "output_type": "display_data"
    }
   ],
   "source": [
    "# plot the error over various mtry variables \n",
    "ggplot(tuned_model)"
   ]
  },
  {
   "cell_type": "markdown",
   "metadata": {
    "_cell_guid": "4cd841a0-4754-40d5-ac66-9a7af49d3133",
    "_uuid": "1e421a4b1dff13aca814ea71ec688ded7fc0eb08"
   },
   "source": [
    "# Compare our models\n",
    "___\n",
    "\n",
    "Now that we have our two models, let's compare them to each other.\n",
    "\n",
    "> **Tip:** You can access the automatically-picked best model by getting the finalModel component for your tuned model. So if you called your tuned model ```model_tuned```, the best model would be ```model_tuned$finalModel```.\n",
    "\n",
    "First, compare the root mean squared error (rmse) for each of your models on the test data. Which model has a lower overall error on the test data? Why might this be?"
   ]
  },
  {
   "cell_type": "code",
   "execution_count": 11,
   "metadata": {
    "_cell_guid": "e49cecaf-cce0-4713-af44-b57f7af13e2a",
    "_uuid": "7758d8f6f9c4a8327bfc318a20004cfaa82940d2"
   },
   "outputs": [
    {
     "name": "stdout",
     "output_type": "stream",
     "text": [
      "[1] \"Base model mean error:\"\n",
      "[1] 2.324056\n",
      "[1] \"Tuned model mean error:\"\n",
      "[1] 2.315855\n"
     ]
    }
   ],
   "source": [
    "# get rmse for the base model on the testing data\n",
    "print(\"Base model mean error:\")\n",
    "print(rmse(predict(base_model, testing), testing$Rating))\n",
    "\n",
    "# get rmse for the tuned model on the testing data\n",
    "print(\"Tuned model mean error:\")\n",
    "print(rmse(predict(tuned_model$finalModel, testing), testing$Rating))"
   ]
  },
  {
   "cell_type": "markdown",
   "metadata": {
    "_cell_guid": "43052d1c-4de3-4f4a-9aaf-9756fd01f6ab",
    "_uuid": "3f08994de51836f46c62966c3a6d78935374e667"
   },
   "source": [
    "Second, look at the five most important varibles for each model. Are the the same?"
   ]
  },
  {
   "cell_type": "code",
   "execution_count": 12,
   "metadata": {
    "_cell_guid": "a768d8d6-11ed-4c35-a7dd-465f1169c8d9",
    "_uuid": "beae6a20420833c8ad18191d1289f68bfb389e90"
   },
   "outputs": [
    {
     "data": {
      "image/png": "[encoded data removed]",
      "text/plain": [
       "Plot with title \"tuned_model$finalModel\""
      ]
     },
     "metadata": {},
     "output_type": "display_data"
    }
   ],
   "source": [
    "# plot the relative variable importance for our tune & un-tuned models\n",
    "\n",
    "# two columns, 1 row (for plots)\n",
    "par(mfrow = c(1,2))\n",
    "\n",
    "# plot both variable importances\n",
    "varImpPlot(base_model, n.var = 5)\n",
    "varImpPlot(tuned_model$finalModel, n.var = 5)\n"
   ]
  },
  {
   "cell_type": "markdown",
   "metadata": {
    "_cell_guid": "26ac4e51-5c07-4383-b0e4-f07adaa5a739",
    "_uuid": "6b5352e82e77c804b588cfe72502ad6a142e1207"
   },
   "source": [
    "# And that's it! :)\n",
    "___\n",
    "\n",
    "Nice work! Now that you've got some practice, why not try using caret to tune a different model, like xgboost? You can check out an [R xgboost tutorial here](https://www.kaggle.com/rtatman/machine-learning-with-xgboost-in-r).\n",
    "\n",
    "Happy analyzing!"
   ]
  },
  {
   "cell_type": "markdown",
   "metadata": {},
   "source": [
    "## Caret with Xgboost"
   ]
  },
  {
   "cell_type": "markdown",
   "metadata": {},
   "source": [
    "### the base xgboost model"
   ]
  },
  {
   "cell_type": "code",
   "execution_count": 26,
   "metadata": {},
   "outputs": [],
   "source": [
    "nrounds <- 1000"
   ]
  },
  {
   "cell_type": "code",
   "execution_count": 19,
   "metadata": {},
   "outputs": [
    {
     "name": "stdout",
     "output_type": "stream",
     "text": [
      "[22:04:59] WARNING: amalgamation/../src/objective/regression_obj.cu:170: reg:linear is now deprecated in favor of reg:squarederror.\n"
     ]
    },
    {
     "data": {
      "text/plain": [
       "eXtreme Gradient Boosting \n",
       "\n",
       "216 samples\n",
       " 40 predictor\n",
       "\n",
       "No pre-processing\n",
       "Resampling: None "
      ]
     },
     "metadata": {},
     "output_type": "display_data"
    }
   ],
   "source": [
    "grid_default <- expand.grid(\n",
    "  nrounds = 100,\n",
    "  max_depth = 6,\n",
    "  eta = 0.3,\n",
    "  gamma = 0,\n",
    "  colsample_bytree = 1,\n",
    "  min_child_weight = 1,\n",
    "  subsample = 1\n",
    ")\n",
    "\n",
    "train_control <- caret::trainControl(\n",
    "  method = \"none\",\n",
    "  verboseIter = FALSE, # no training log\n",
    "  allowParallel = TRUE # FALSE for reproducible results \n",
    ")\n",
    "\n",
    "xgb_base <- caret::train(\n",
    "  x = predictors,\n",
    "  y = output,\n",
    "  trControl = train_control,\n",
    "  tuneGrid = grid_default,\n",
    "  method = \"xgbTree\",\n",
    "  verbose = TRUE\n",
    ")\n",
    "xgb_base"
   ]
  },
  {
   "cell_type": "markdown",
   "metadata": {},
   "source": [
    "### 1 finding max_depth"
   ]
  },
  {
   "cell_type": "code",
   "execution_count": 23,
   "metadata": {},
   "outputs": [
    {
     "name": "stdout",
     "output_type": "stream",
     "text": [
      "[22:13:05] WARNING: amalgamation/../src/objective/regression_obj.cu:170: reg:linear is now deprecated in favor of reg:squarederror.\n",
      "[22:13:07] WARNING: amalgamation/../src/objective/regression_obj.cu:170: reg:linear is now deprecated in favor of reg:squarederror.\n",
      "[22:13:10] WARNING: amalgamation/../src/objective/regression_obj.cu:170: reg:linear is now deprecated in favor of reg:squarederror.\n",
      "[22:13:14] WARNING: amalgamation/../src/objective/regression_obj.cu:170: reg:linear is now deprecated in favor of reg:squarederror.\n",
      "[22:13:18] WARNING: amalgamation/../src/objective/regression_obj.cu:170: reg:linear is now deprecated in favor of reg:squarederror.\n",
      "[22:13:24] WARNING: amalgamation/../src/objective/regression_obj.cu:170: reg:linear is now deprecated in favor of reg:squarederror.\n",
      "[22:13:26] WARNING: amalgamation/../src/objective/regression_obj.cu:170: reg:linear is now deprecated in favor of reg:squarederror.\n",
      "[22:13:29] WARNING: amalgamation/../src/objective/regression_obj.cu:170: reg:linear is now deprecated in favor of reg:squarederror.\n",
      "[22:13:32] WARNING: amalgamation/../src/objective/regression_obj.cu:170: reg:linear is now deprecated in favor of reg:squarederror.\n",
      "[22:13:35] WARNING: amalgamation/../src/objective/regression_obj.cu:170: reg:linear is now deprecated in favor of reg:squarederror.\n",
      "[22:13:38] WARNING: amalgamation/../src/objective/regression_obj.cu:170: reg:linear is now deprecated in favor of reg:squarederror.\n",
      "[22:13:40] WARNING: amalgamation/../src/objective/regression_obj.cu:170: reg:linear is now deprecated in favor of reg:squarederror.\n",
      "[22:13:42] WARNING: amalgamation/../src/objective/regression_obj.cu:170: reg:linear is now deprecated in favor of reg:squarederror.\n",
      "[22:13:44] WARNING: amalgamation/../src/objective/regression_obj.cu:170: reg:linear is now deprecated in favor of reg:squarederror.\n",
      "[22:13:46] WARNING: amalgamation/../src/objective/regression_obj.cu:170: reg:linear is now deprecated in favor of reg:squarederror.\n",
      "[22:13:48] WARNING: amalgamation/../src/objective/regression_obj.cu:170: reg:linear is now deprecated in favor of reg:squarederror.\n",
      "[22:13:50] WARNING: amalgamation/../src/objective/regression_obj.cu:170: reg:linear is now deprecated in favor of reg:squarederror.\n",
      "[22:13:51] WARNING: amalgamation/../src/objective/regression_obj.cu:170: reg:linear is now deprecated in favor of reg:squarederror.\n",
      "[22:13:53] WARNING: amalgamation/../src/objective/regression_obj.cu:170: reg:linear is now deprecated in favor of reg:squarederror.\n",
      "[22:13:54] WARNING: amalgamation/../src/objective/regression_obj.cu:170: reg:linear is now deprecated in favor of reg:squarederror.\n",
      "[22:13:56] WARNING: amalgamation/../src/objective/regression_obj.cu:170: reg:linear is now deprecated in favor of reg:squarederror.\n",
      "[22:13:58] WARNING: amalgamation/../src/objective/regression_obj.cu:170: reg:linear is now deprecated in favor of reg:squarederror.\n",
      "[22:14:01] WARNING: amalgamation/../src/objective/regression_obj.cu:170: reg:linear is now deprecated in favor of reg:squarederror.\n",
      "[22:14:04] WARNING: amalgamation/../src/objective/regression_obj.cu:170: reg:linear is now deprecated in favor of reg:squarederror.\n",
      "[22:14:09] WARNING: amalgamation/../src/objective/regression_obj.cu:170: reg:linear is now deprecated in favor of reg:squarederror.\n",
      "[22:14:15] WARNING: amalgamation/../src/objective/regression_obj.cu:170: reg:linear is now deprecated in favor of reg:squarederror.\n",
      "[22:14:17] WARNING: amalgamation/../src/objective/regression_obj.cu:170: reg:linear is now deprecated in favor of reg:squarederror.\n",
      "[22:14:19] WARNING: amalgamation/../src/objective/regression_obj.cu:170: reg:linear is now deprecated in favor of reg:squarederror.\n",
      "[22:14:23] WARNING: amalgamation/../src/objective/regression_obj.cu:170: reg:linear is now deprecated in favor of reg:squarederror.\n",
      "[22:14:26] WARNING: amalgamation/../src/objective/regression_obj.cu:170: reg:linear is now deprecated in favor of reg:squarederror.\n",
      "[22:14:29] WARNING: amalgamation/../src/objective/regression_obj.cu:170: reg:linear is now deprecated in favor of reg:squarederror.\n",
      "[22:14:31] WARNING: amalgamation/../src/objective/regression_obj.cu:170: reg:linear is now deprecated in favor of reg:squarederror.\n",
      "[22:14:33] WARNING: amalgamation/../src/objective/regression_obj.cu:170: reg:linear is now deprecated in favor of reg:squarederror.\n",
      "[22:14:35] WARNING: amalgamation/../src/objective/regression_obj.cu:170: reg:linear is now deprecated in favor of reg:squarederror.\n",
      "[22:14:37] WARNING: amalgamation/../src/objective/regression_obj.cu:170: reg:linear is now deprecated in favor of reg:squarederror.\n",
      "[22:14:40] WARNING: amalgamation/../src/objective/regression_obj.cu:170: reg:linear is now deprecated in favor of reg:squarederror.\n",
      "[22:14:41] WARNING: amalgamation/../src/objective/regression_obj.cu:170: reg:linear is now deprecated in favor of reg:squarederror.\n",
      "[22:14:43] WARNING: amalgamation/../src/objective/regression_obj.cu:170: reg:linear is now deprecated in favor of reg:squarederror.\n",
      "[22:14:44] WARNING: amalgamation/../src/objective/regression_obj.cu:170: reg:linear is now deprecated in favor of reg:squarederror.\n",
      "[22:14:46] WARNING: amalgamation/../src/objective/regression_obj.cu:170: reg:linear is now deprecated in favor of reg:squarederror.\n",
      "[22:14:47] WARNING: amalgamation/../src/objective/regression_obj.cu:170: reg:linear is now deprecated in favor of reg:squarederror.\n",
      "[22:14:49] WARNING: amalgamation/../src/objective/regression_obj.cu:170: reg:linear is now deprecated in favor of reg:squarederror.\n",
      "[22:14:52] WARNING: amalgamation/../src/objective/regression_obj.cu:170: reg:linear is now deprecated in favor of reg:squarederror.\n",
      "[22:14:56] WARNING: amalgamation/../src/objective/regression_obj.cu:170: reg:linear is now deprecated in favor of reg:squarederror.\n",
      "[22:15:02] WARNING: amalgamation/../src/objective/regression_obj.cu:170: reg:linear is now deprecated in favor of reg:squarederror.\n",
      "[22:15:07] WARNING: amalgamation/../src/objective/regression_obj.cu:170: reg:linear is now deprecated in favor of reg:squarederror.\n",
      "[22:15:09] WARNING: amalgamation/../src/objective/regression_obj.cu:170: reg:linear is now deprecated in favor of reg:squarederror.\n",
      "[22:15:12] WARNING: amalgamation/../src/objective/regression_obj.cu:170: reg:linear is now deprecated in favor of reg:squarederror.\n",
      "[22:15:16] WARNING: amalgamation/../src/objective/regression_obj.cu:170: reg:linear is now deprecated in favor of reg:squarederror.\n",
      "[22:15:19] WARNING: amalgamation/../src/objective/regression_obj.cu:170: reg:linear is now deprecated in favor of reg:squarederror.\n",
      "[22:15:22] WARNING: amalgamation/../src/objective/regression_obj.cu:170: reg:linear is now deprecated in favor of reg:squarederror.\n",
      "[22:15:24] WARNING: amalgamation/../src/objective/regression_obj.cu:170: reg:linear is now deprecated in favor of reg:squarederror.\n",
      "[22:15:27] WARNING: amalgamation/../src/objective/regression_obj.cu:170: reg:linear is now deprecated in favor of reg:squarederror.\n",
      "[22:15:29] WARNING: amalgamation/../src/objective/regression_obj.cu:170: reg:linear is now deprecated in favor of reg:squarederror.\n",
      "[22:15:31] WARNING: amalgamation/../src/objective/regression_obj.cu:170: reg:linear is now deprecated in favor of reg:squarederror.\n",
      "[22:15:34] WARNING: amalgamation/../src/objective/regression_obj.cu:170: reg:linear is now deprecated in favor of reg:squarederror.\n",
      "[22:15:35] WARNING: amalgamation/../src/objective/regression_obj.cu:170: reg:linear is now deprecated in favor of reg:squarederror.\n",
      "[22:15:37] WARNING: amalgamation/../src/objective/regression_obj.cu:170: reg:linear is now deprecated in favor of reg:squarederror.\n",
      "[22:15:38] WARNING: amalgamation/../src/objective/regression_obj.cu:170: reg:linear is now deprecated in favor of reg:squarederror.\n",
      "[22:15:40] WARNING: amalgamation/../src/objective/regression_obj.cu:170: reg:linear is now deprecated in favor of reg:squarederror.\n",
      "[22:15:41] WARNING: amalgamation/../src/objective/regression_obj.cu:170: reg:linear is now deprecated in favor of reg:squarederror.\n"
     ]
    },
    {
     "data": {
      "image/png": "[encoded data removed]",
      "text/plain": [
       "plot without title"
      ]
     },
     "metadata": {},
     "output_type": "display_data"
    }
   ],
   "source": [
    "# note to start nrounds from 200, as smaller learning rates result in errors so\n",
    "# big with lower starting points that they'll mess the scales\n",
    "tune_grid <- expand.grid(\n",
    "  nrounds = seq(from = 200, to = nrounds, by = 50),\n",
    "  eta = c(0.025, 0.05, 0.1, 0.3),\n",
    "  max_depth = c(2, 3, 4, 5, 6),\n",
    "  gamma = 0,\n",
    "  colsample_bytree = 1,\n",
    "  min_child_weight = 1,\n",
    "  subsample = 1\n",
    ")\n",
    "\n",
    "tune_control <- caret::trainControl(\n",
    "  method = \"cv\", # cross-validation\n",
    "  number = 3, # with n folds \n",
    "  #index = createFolds(tr_treated$Id_clean), # fix the folds\n",
    "  verboseIter = FALSE, # no training log\n",
    "  allowParallel = TRUE # FALSE for reproducible results \n",
    ")\n",
    "\n",
    "xgb_tune <- caret::train(\n",
    "  x = predictors,\n",
    "  y = output,\n",
    "  trControl = tune_control,\n",
    "  tuneGrid = tune_grid,\n",
    "  method = \"xgbTree\",\n",
    "  verbose = TRUE\n",
    ")\n",
    "\n",
    "# helper function for the plots\n",
    "tuneplot <- function(x, probs = .90) {\n",
    "  ggplot(x) +\n",
    "    coord_cartesian(ylim = c(quantile(x$results$RMSE, probs = probs), min(x$results$RMSE))) +\n",
    "    theme_bw()\n",
    "}\n",
    "\n",
    "tuneplot(xgb_tune)"
   ]
  },
  {
   "cell_type": "markdown",
   "metadata": {},
   "source": [
    "### 2 finding min_child_sample"
   ]
  },
  {
   "cell_type": "code",
   "execution_count": 25,
   "metadata": {},
   "outputs": [
    {
     "name": "stdout",
     "output_type": "stream",
     "text": [
      "[22:23:56] WARNING: amalgamation/../src/objective/regression_obj.cu:170: reg:linear is now deprecated in favor of reg:squarederror.\n",
      "[22:23:58] WARNING: amalgamation/../src/objective/regression_obj.cu:170: reg:linear is now deprecated in favor of reg:squarederror.\n",
      "[22:24:01] WARNING: amalgamation/../src/objective/regression_obj.cu:170: reg:linear is now deprecated in favor of reg:squarederror.\n",
      "[22:24:03] WARNING: amalgamation/../src/objective/regression_obj.cu:170: reg:linear is now deprecated in favor of reg:squarederror.\n",
      "[22:24:05] WARNING: amalgamation/../src/objective/regression_obj.cu:170: reg:linear is now deprecated in favor of reg:squarederror.\n",
      "[22:24:07] WARNING: amalgamation/../src/objective/regression_obj.cu:170: reg:linear is now deprecated in favor of reg:squarederror.\n",
      "[22:24:09] WARNING: amalgamation/../src/objective/regression_obj.cu:170: reg:linear is now deprecated in favor of reg:squarederror.\n",
      "[22:24:11] WARNING: amalgamation/../src/objective/regression_obj.cu:170: reg:linear is now deprecated in favor of reg:squarederror.\n",
      "[22:24:13] WARNING: amalgamation/../src/objective/regression_obj.cu:170: reg:linear is now deprecated in favor of reg:squarederror.\n",
      "[22:24:16] WARNING: amalgamation/../src/objective/regression_obj.cu:170: reg:linear is now deprecated in favor of reg:squarederror.\n"
     ]
    },
    {
     "data": {
      "image/png": "[encoded data removed]",
      "text/plain": [
       "plot without title"
      ]
     },
     "metadata": {},
     "output_type": "display_data"
    }
   ],
   "source": [
    "tune_grid2 <- expand.grid(\n",
    "  nrounds = seq(from = 50, to = nrounds, by = 50),\n",
    "  eta = xgb_tune$bestTune$eta,\n",
    "  max_depth = ifelse(xgb_tune$bestTune$max_depth == 2,\n",
    "    c(xgb_tune$bestTune$max_depth:4),\n",
    "    xgb_tune$bestTune$max_depth - 1:xgb_tune$bestTune$max_depth + 1),\n",
    "  gamma = 0,\n",
    "  colsample_bytree = 1,\n",
    "  min_child_weight = c(1, 2, 3),\n",
    "  subsample = 1\n",
    ")\n",
    "\n",
    "xgb_tune2 <- caret::train(\n",
    "  x = predictors,\n",
    "  y = output,\n",
    "  trControl = tune_control,\n",
    "  tuneGrid = tune_grid2,\n",
    "  method = \"xgbTree\",\n",
    "  verbose = TRUE\n",
    ")\n",
    "\n",
    "tuneplot(xgb_tune2)"
   ]
  },
  {
   "cell_type": "markdown",
   "metadata": {},
   "source": [
    "### 3 finding colsample_bytree"
   ]
  },
  {
   "cell_type": "code",
   "execution_count": 27,
   "metadata": {},
   "outputs": [
    {
     "name": "stdout",
     "output_type": "stream",
     "text": [
      "[22:26:39] WARNING: amalgamation/../src/objective/regression_obj.cu:170: reg:linear is now deprecated in favor of reg:squarederror.\n",
      "[22:26:42] WARNING: amalgamation/../src/objective/regression_obj.cu:170: reg:linear is now deprecated in favor of reg:squarederror.\n",
      "[22:26:44] WARNING: amalgamation/../src/objective/regression_obj.cu:170: reg:linear is now deprecated in favor of reg:squarederror.\n",
      "[22:26:46] WARNING: amalgamation/../src/objective/regression_obj.cu:170: reg:linear is now deprecated in favor of reg:squarederror.\n",
      "[22:26:49] WARNING: amalgamation/../src/objective/regression_obj.cu:170: reg:linear is now deprecated in favor of reg:squarederror.\n",
      "[22:26:51] WARNING: amalgamation/../src/objective/regression_obj.cu:170: reg:linear is now deprecated in favor of reg:squarederror.\n",
      "[22:26:54] WARNING: amalgamation/../src/objective/regression_obj.cu:170: reg:linear is now deprecated in favor of reg:squarederror.\n",
      "[22:26:57] WARNING: amalgamation/../src/objective/regression_obj.cu:170: reg:linear is now deprecated in favor of reg:squarederror.\n",
      "[22:27:00] WARNING: amalgamation/../src/objective/regression_obj.cu:170: reg:linear is now deprecated in favor of reg:squarederror.\n",
      "[22:27:02] WARNING: amalgamation/../src/objective/regression_obj.cu:170: reg:linear is now deprecated in favor of reg:squarederror.\n",
      "[22:27:06] WARNING: amalgamation/../src/objective/regression_obj.cu:170: reg:linear is now deprecated in favor of reg:squarederror.\n",
      "[22:27:08] WARNING: amalgamation/../src/objective/regression_obj.cu:170: reg:linear is now deprecated in favor of reg:squarederror.\n",
      "[22:27:11] WARNING: amalgamation/../src/objective/regression_obj.cu:170: reg:linear is now deprecated in favor of reg:squarederror.\n",
      "[22:27:14] WARNING: amalgamation/../src/objective/regression_obj.cu:170: reg:linear is now deprecated in favor of reg:squarederror.\n",
      "[22:27:16] WARNING: amalgamation/../src/objective/regression_obj.cu:170: reg:linear is now deprecated in favor of reg:squarederror.\n",
      "[22:27:18] WARNING: amalgamation/../src/objective/regression_obj.cu:170: reg:linear is now deprecated in favor of reg:squarederror.\n",
      "[22:27:22] WARNING: amalgamation/../src/objective/regression_obj.cu:170: reg:linear is now deprecated in favor of reg:squarederror.\n",
      "[22:27:24] WARNING: amalgamation/../src/objective/regression_obj.cu:170: reg:linear is now deprecated in favor of reg:squarederror.\n",
      "[22:27:26] WARNING: amalgamation/../src/objective/regression_obj.cu:170: reg:linear is now deprecated in favor of reg:squarederror.\n",
      "[22:27:30] WARNING: amalgamation/../src/objective/regression_obj.cu:170: reg:linear is now deprecated in favor of reg:squarederror.\n",
      "[22:27:32] WARNING: amalgamation/../src/objective/regression_obj.cu:170: reg:linear is now deprecated in favor of reg:squarederror.\n",
      "[22:27:34] WARNING: amalgamation/../src/objective/regression_obj.cu:170: reg:linear is now deprecated in favor of reg:squarederror.\n",
      "[22:27:38] WARNING: amalgamation/../src/objective/regression_obj.cu:170: reg:linear is now deprecated in favor of reg:squarederror.\n",
      "[22:27:41] WARNING: amalgamation/../src/objective/regression_obj.cu:170: reg:linear is now deprecated in favor of reg:squarederror.\n",
      "[22:27:43] WARNING: amalgamation/../src/objective/regression_obj.cu:170: reg:linear is now deprecated in favor of reg:squarederror.\n",
      "[22:27:47] WARNING: amalgamation/../src/objective/regression_obj.cu:170: reg:linear is now deprecated in favor of reg:squarederror.\n",
      "[22:27:49] WARNING: amalgamation/../src/objective/regression_obj.cu:170: reg:linear is now deprecated in favor of reg:squarederror.\n",
      "[22:27:51] WARNING: amalgamation/../src/objective/regression_obj.cu:170: reg:linear is now deprecated in favor of reg:squarederror.\n",
      "[22:27:55] WARNING: amalgamation/../src/objective/regression_obj.cu:170: reg:linear is now deprecated in favor of reg:squarederror.\n",
      "[22:27:57] WARNING: amalgamation/../src/objective/regression_obj.cu:170: reg:linear is now deprecated in favor of reg:squarederror.\n",
      "[22:28:00] WARNING: amalgamation/../src/objective/regression_obj.cu:170: reg:linear is now deprecated in favor of reg:squarederror.\n",
      "[22:28:04] WARNING: amalgamation/../src/objective/regression_obj.cu:170: reg:linear is now deprecated in favor of reg:squarederror.\n",
      "[22:28:06] WARNING: amalgamation/../src/objective/regression_obj.cu:170: reg:linear is now deprecated in favor of reg:squarederror.\n",
      "[22:28:08] WARNING: amalgamation/../src/objective/regression_obj.cu:170: reg:linear is now deprecated in favor of reg:squarederror.\n",
      "[22:28:12] WARNING: amalgamation/../src/objective/regression_obj.cu:170: reg:linear is now deprecated in favor of reg:squarederror.\n",
      "[22:28:15] WARNING: amalgamation/../src/objective/regression_obj.cu:170: reg:linear is now deprecated in favor of reg:squarederror.\n",
      "[22:28:18] WARNING: amalgamation/../src/objective/regression_obj.cu:170: reg:linear is now deprecated in favor of reg:squarederror.\n"
     ]
    },
    {
     "data": {
      "image/png": "[encoded data removed]",
      "text/plain": [
       "plot without title"
      ]
     },
     "metadata": {},
     "output_type": "display_data"
    }
   ],
   "source": [
    "tune_grid3 <- expand.grid(\n",
    "  nrounds = seq(from = 50, to = nrounds, by = 50),\n",
    "  eta = xgb_tune$bestTune$eta,\n",
    "  max_depth = xgb_tune2$bestTune$max_depth,\n",
    "  gamma = 0,\n",
    "  colsample_bytree = c(0.4, 0.6, 0.8, 1.0),\n",
    "  min_child_weight = xgb_tune2$bestTune$min_child_weight,\n",
    "  subsample = c(0.5, 0.75, 1.0)\n",
    ")\n",
    "\n",
    "xgb_tune3 <- caret::train(\n",
    "  x = predictors,\n",
    "  y = output,\n",
    "  trControl = tune_control,\n",
    "  tuneGrid = tune_grid3,\n",
    "  method = \"xgbTree\",\n",
    "  verbose = TRUE\n",
    ")\n",
    "\n",
    "tuneplot(xgb_tune3, probs = .95)"
   ]
  },
  {
   "cell_type": "markdown",
   "metadata": {},
   "source": [
    "### 4 finding gamma"
   ]
  },
  {
   "cell_type": "code",
   "execution_count": 28,
   "metadata": {},
   "outputs": [
    {
     "name": "stdout",
     "output_type": "stream",
     "text": [
      "[22:32:52] WARNING: amalgamation/../src/objective/regression_obj.cu:170: reg:linear is now deprecated in favor of reg:squarederror.\n",
      "[22:32:54] WARNING: amalgamation/../src/objective/regression_obj.cu:170: reg:linear is now deprecated in favor of reg:squarederror.\n",
      "[22:32:58] WARNING: amalgamation/../src/objective/regression_obj.cu:170: reg:linear is now deprecated in favor of reg:squarederror.\n",
      "[22:33:02] WARNING: amalgamation/../src/objective/regression_obj.cu:170: reg:linear is now deprecated in favor of reg:squarederror.\n",
      "[22:33:06] WARNING: amalgamation/../src/objective/regression_obj.cu:170: reg:linear is now deprecated in favor of reg:squarederror.\n",
      "[22:33:10] WARNING: amalgamation/../src/objective/regression_obj.cu:170: reg:linear is now deprecated in favor of reg:squarederror.\n",
      "[22:33:14] WARNING: amalgamation/../src/objective/regression_obj.cu:170: reg:linear is now deprecated in favor of reg:squarederror.\n",
      "[22:33:18] WARNING: amalgamation/../src/objective/regression_obj.cu:170: reg:linear is now deprecated in favor of reg:squarederror.\n",
      "[22:33:21] WARNING: amalgamation/../src/objective/regression_obj.cu:170: reg:linear is now deprecated in favor of reg:squarederror.\n",
      "[22:33:25] WARNING: amalgamation/../src/objective/regression_obj.cu:170: reg:linear is now deprecated in favor of reg:squarederror.\n",
      "[22:33:29] WARNING: amalgamation/../src/objective/regression_obj.cu:170: reg:linear is now deprecated in favor of reg:squarederror.\n",
      "[22:33:33] WARNING: amalgamation/../src/objective/regression_obj.cu:170: reg:linear is now deprecated in favor of reg:squarederror.\n",
      "[22:33:37] WARNING: amalgamation/../src/objective/regression_obj.cu:170: reg:linear is now deprecated in favor of reg:squarederror.\n",
      "[22:33:41] WARNING: amalgamation/../src/objective/regression_obj.cu:170: reg:linear is now deprecated in favor of reg:squarederror.\n",
      "[22:33:46] WARNING: amalgamation/../src/objective/regression_obj.cu:170: reg:linear is now deprecated in favor of reg:squarederror.\n",
      "[22:33:48] WARNING: amalgamation/../src/objective/regression_obj.cu:170: reg:linear is now deprecated in favor of reg:squarederror.\n",
      "[22:33:51] WARNING: amalgamation/../src/objective/regression_obj.cu:170: reg:linear is now deprecated in favor of reg:squarederror.\n",
      "[22:33:55] WARNING: amalgamation/../src/objective/regression_obj.cu:170: reg:linear is now deprecated in favor of reg:squarederror.\n",
      "[22:33:59] WARNING: amalgamation/../src/objective/regression_obj.cu:170: reg:linear is now deprecated in favor of reg:squarederror.\n",
      "[22:34:03] WARNING: amalgamation/../src/objective/regression_obj.cu:170: reg:linear is now deprecated in favor of reg:squarederror.\n",
      "[22:34:07] WARNING: amalgamation/../src/objective/regression_obj.cu:170: reg:linear is now deprecated in favor of reg:squarederror.\n",
      "[22:34:11] WARNING: amalgamation/../src/objective/regression_obj.cu:170: reg:linear is now deprecated in favor of reg:squarederror.\n"
     ]
    },
    {
     "name": "stderr",
     "output_type": "stream",
     "text": [
      "Warning message:\n",
      "\"The shape palette can deal with a maximum of 6 discrete values because\n",
      "more than 6 becomes difficult to discriminate; you have 7. Consider\n",
      "specifying shapes manually if you must have them.\"Warning message:\n",
      "\"Removed 20 rows containing missing values (geom_point).\""
     ]
    },
    {
     "data": {
      "image/png": "[encoded data removed]",
      "text/plain": [
       "plot without title"
      ]
     },
     "metadata": {},
     "output_type": "display_data"
    }
   ],
   "source": [
    "tune_grid4 <- expand.grid(\n",
    "  nrounds = seq(from = 50, to = nrounds, by = 50),\n",
    "  eta = xgb_tune$bestTune$eta,\n",
    "  max_depth = xgb_tune2$bestTune$max_depth,\n",
    "  gamma = c(0, 0.05, 0.1, 0.5, 0.7, 0.9, 1.0),\n",
    "  colsample_bytree = xgb_tune3$bestTune$colsample_bytree,\n",
    "  min_child_weight = xgb_tune2$bestTune$min_child_weight,\n",
    "  subsample = xgb_tune3$bestTune$subsample\n",
    ")\n",
    "\n",
    "xgb_tune4 <- caret::train(\n",
    "  x = predictors,\n",
    "  y = output,\n",
    "  trControl = tune_control,\n",
    "  tuneGrid = tune_grid4,\n",
    "  method = \"xgbTree\",\n",
    "  verbose = TRUE\n",
    ")\n",
    "\n",
    "tuneplot(xgb_tune4)"
   ]
  },
  {
   "cell_type": "markdown",
   "metadata": {},
   "source": [
    "### 5 finding eta"
   ]
  },
  {
   "cell_type": "code",
   "execution_count": 30,
   "metadata": {},
   "outputs": [
    {
     "name": "stdout",
     "output_type": "stream",
     "text": [
      "[22:34:29] WARNING: amalgamation/../src/objective/regression_obj.cu:170: reg:linear is now deprecated in favor of reg:squarederror.\n",
      "[22:34:54] WARNING: amalgamation/../src/objective/regression_obj.cu:170: reg:linear is now deprecated in favor of reg:squarederror.\n",
      "[22:35:11] WARNING: amalgamation/../src/objective/regression_obj.cu:170: reg:linear is now deprecated in favor of reg:squarederror.\n",
      "[22:35:26] WARNING: amalgamation/../src/objective/regression_obj.cu:170: reg:linear is now deprecated in favor of reg:squarederror.\n",
      "[22:35:38] WARNING: amalgamation/../src/objective/regression_obj.cu:170: reg:linear is now deprecated in favor of reg:squarederror.\n",
      "[22:35:49] WARNING: amalgamation/../src/objective/regression_obj.cu:170: reg:linear is now deprecated in favor of reg:squarederror.\n",
      "[22:36:12] WARNING: amalgamation/../src/objective/regression_obj.cu:170: reg:linear is now deprecated in favor of reg:squarederror.\n",
      "[22:36:31] WARNING: amalgamation/../src/objective/regression_obj.cu:170: reg:linear is now deprecated in favor of reg:squarederror.\n",
      "[22:36:46] WARNING: amalgamation/../src/objective/regression_obj.cu:170: reg:linear is now deprecated in favor of reg:squarederror.\n",
      "[22:36:59] WARNING: amalgamation/../src/objective/regression_obj.cu:170: reg:linear is now deprecated in favor of reg:squarederror.\n",
      "[22:37:10] WARNING: amalgamation/../src/objective/regression_obj.cu:170: reg:linear is now deprecated in favor of reg:squarederror.\n",
      "[22:37:30] WARNING: amalgamation/../src/objective/regression_obj.cu:170: reg:linear is now deprecated in favor of reg:squarederror.\n",
      "[22:37:47] WARNING: amalgamation/../src/objective/regression_obj.cu:170: reg:linear is now deprecated in favor of reg:squarederror.\n",
      "[22:38:01] WARNING: amalgamation/../src/objective/regression_obj.cu:170: reg:linear is now deprecated in favor of reg:squarederror.\n",
      "[22:38:14] WARNING: amalgamation/../src/objective/regression_obj.cu:170: reg:linear is now deprecated in favor of reg:squarederror.\n",
      "[22:38:25] WARNING: amalgamation/../src/objective/regression_obj.cu:170: reg:linear is now deprecated in favor of reg:squarederror.\n"
     ]
    },
    {
     "data": {
      "image/png": "[encoded data removed]",
      "text/plain": [
       "plot without title"
      ]
     },
     "metadata": {},
     "output_type": "display_data"
    }
   ],
   "source": [
    "tune_grid5 <- expand.grid(\n",
    "  nrounds = seq(from = 100, to = nrounds, by = 100),\n",
    "  eta = c(0.01, 0.015, 0.025, 0.05, 0.1),\n",
    "  max_depth = xgb_tune2$bestTune$max_depth,\n",
    "  gamma = xgb_tune4$bestTune$gamma,\n",
    "  colsample_bytree = xgb_tune3$bestTune$colsample_bytree,\n",
    "  min_child_weight = xgb_tune2$bestTune$min_child_weight,\n",
    "  subsample = xgb_tune3$bestTune$subsample\n",
    ")\n",
    "\n",
    "xgb_tune5 <- caret::train(\n",
    "  x = predictors,\n",
    "  y = output,\n",
    "  trControl = tune_control,\n",
    "  tuneGrid = tune_grid5,\n",
    "  method = \"xgbTree\",\n",
    "  verbose = TRUE\n",
    ")\n",
    "\n",
    "tuneplot(xgb_tune5)"
   ]
  },
  {
   "cell_type": "code",
   "execution_count": 31,
   "metadata": {},
   "outputs": [
    {
     "data": {
      "text/html": [
       "<table>\n",
       "<thead><tr><th scope=col>nrounds</th><th scope=col>eta</th><th scope=col>max_depth</th><th scope=col>gamma</th><th scope=col>colsample_bytree</th><th scope=col>min_child_weight</th><th scope=col>subsample</th></tr></thead>\n",
       "<tbody>\n",
       "\t<tr><td>9900 </td><td>0.025</td><td>5    </td><td>0    </td><td>0.4  </td><td>3    </td><td>1    </td></tr>\n",
       "</tbody>\n",
       "</table>\n"
      ],
      "text/latex": [
       "\\begin{tabular}{r|lllllll}\n",
       " nrounds & eta & max\\_depth & gamma & colsample\\_bytree & min\\_child\\_weight & subsample\\\\\n",
       "\\hline\n",
       "\t 9900  & 0.025 & 5     & 0     & 0.4   & 3     & 1    \\\\\n",
       "\\end{tabular}\n"
      ],
      "text/markdown": [
       "\n",
       "| nrounds | eta | max_depth | gamma | colsample_bytree | min_child_weight | subsample |\n",
       "|---|---|---|---|---|---|---|\n",
       "| 9900  | 0.025 | 5     | 0     | 0.4   | 3     | 1     |\n",
       "\n"
      ],
      "text/plain": [
       "  nrounds eta   max_depth gamma colsample_bytree min_child_weight subsample\n",
       "1 9900    0.025 5         0     0.4              3                1        "
      ]
     },
     "metadata": {},
     "output_type": "display_data"
    },
    {
     "name": "stdout",
     "output_type": "stream",
     "text": [
      "[22:38:42] WARNING: amalgamation/../src/objective/regression_obj.cu:170: reg:linear is now deprecated in favor of reg:squarederror.\n"
     ]
    },
    {
     "data": {
      "text/plain": [
       "eXtreme Gradient Boosting \n",
       "\n",
       "216 samples\n",
       " 40 predictor\n",
       "\n",
       "No pre-processing\n",
       "Resampling: None "
      ]
     },
     "metadata": {},
     "output_type": "display_data"
    }
   ],
   "source": [
    "(final_grid <- expand.grid(\n",
    "  nrounds = xgb_tune5$bestTune$nrounds,\n",
    "  eta = xgb_tune5$bestTune$eta,\n",
    "  max_depth = xgb_tune5$bestTune$max_depth,\n",
    "  gamma = xgb_tune5$bestTune$gamma,\n",
    "  colsample_bytree = xgb_tune5$bestTune$colsample_bytree,\n",
    "  min_child_weight = xgb_tune5$bestTune$min_child_weight,\n",
    "  subsample = xgb_tune5$bestTune$subsample\n",
    "))\n",
    "(xgb_model <- caret::train(\n",
    "  x = predictors,\n",
    "  y = output,\n",
    "  trControl = train_control,\n",
    "  tuneGrid = final_grid,\n",
    "  method = \"xgbTree\",\n",
    "  verbose = TRUE\n",
    "))"
   ]
  },
  {
   "cell_type": "markdown",
   "metadata": {},
   "source": [
    "### Comparing RSME of xgb models"
   ]
  },
  {
   "cell_type": "code",
   "execution_count": 33,
   "metadata": {},
   "outputs": [
    {
     "name": "stdout",
     "output_type": "stream",
     "text": [
      "[1] \"Base xgb_model mean error:\"\n",
      "[1] 2.771894\n",
      "[1] \"Tuned xgb_model mean error:\"\n",
      "[1] 2.016855\n"
     ]
    }
   ],
   "source": [
    "# get rmse for the base model on the testing data\n",
    "print(\"Base xgb_model mean error:\")\n",
    "print(rmse(predict(xgb_base, testing), testing$Rating))\n",
    "\n",
    "# get rmse for the tuned model on the testing data\n",
    "print(\"Tuned xgb_model mean error:\")\n",
    "print(rmse(predict(xgb_model, testing), testing$Rating))"
   ]
  },
  {
   "cell_type": "code",
   "execution_count": 40,
   "metadata": {},
   "outputs": [
    {
     "data": {
      "text/html": [
       "27.2464814146517"
      ],
      "text/latex": [
       "27.2464814146517"
      ],
      "text/markdown": [
       "27.2464814146517"
      ],
      "text/plain": [
       "[1] 27.24648"
      ]
     },
     "metadata": {},
     "output_type": "display_data"
    }
   ],
   "source": [
    "(1 -(2.016/2.771)) * 100.0"
   ]
  },
  {
   "cell_type": "markdown",
   "metadata": {},
   "source": [
    "Success, this thorough method cut the error by almost 30%\n"
   ]
  },
  {
   "cell_type": "markdown",
   "metadata": {},
   "source": [
    "------------<>------------"
   ]
  }
 ],
 "metadata": {
  "kernelspec": {
   "display_name": "R",
   "language": "R",
   "name": "ir"
  },
  "language_info": {
   "codemirror_mode": "r",
   "file_extension": ".r",
   "mimetype": "text/x-r-source",
   "name": "R",
   "pygments_lexer": "r",
   "version": "3.6.1"
  }
 },
 "nbformat": 4,
 "nbformat_minor": 1
}
